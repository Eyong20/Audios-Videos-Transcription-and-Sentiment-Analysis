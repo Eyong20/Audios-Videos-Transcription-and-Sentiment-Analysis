{
 "cells": [
  {
   "cell_type": "code",
   "execution_count": 1,
   "id": "166a8696",
   "metadata": {},
   "outputs": [
    {
     "name": "stderr",
     "output_type": "stream",
     "text": [
      "D:\\Anaconda3\\lib\\site-packages\\pydub\\utils.py:170: RuntimeWarning: Couldn't find ffmpeg or avconv - defaulting to ffmpeg, but may not work\n",
      "  warn(\"Couldn't find ffmpeg or avconv - defaulting to ffmpeg, but may not work\", RuntimeWarning)\n",
      "D:\\Anaconda3\\lib\\site-packages\\pydub\\utils.py:198: RuntimeWarning: Couldn't find ffprobe or avprobe - defaulting to ffprobe, but may not work\n",
      "  warn(\"Couldn't find ffprobe or avprobe - defaulting to ffprobe, but may not work\", RuntimeWarning)\n"
     ]
    },
    {
     "ename": "FileNotFoundError",
     "evalue": "[WinError 2] The system cannot find the file specified",
     "output_type": "error",
     "traceback": [
      "\u001b[1;31m---------------------------------------------------------------------------\u001b[0m",
      "\u001b[1;31mFileNotFoundError\u001b[0m                         Traceback (most recent call last)",
      "\u001b[1;32m<ipython-input-1-0e53c98d1fe0>\u001b[0m in \u001b[0;36m<module>\u001b[1;34m\u001b[0m\n\u001b[0;32m     12\u001b[0m \u001b[1;33m\u001b[0m\u001b[0m\n\u001b[0;32m     13\u001b[0m \u001b[1;31m# convert mp3 file to wav file\u001b[0m\u001b[1;33m\u001b[0m\u001b[1;33m\u001b[0m\u001b[1;33m\u001b[0m\u001b[0m\n\u001b[1;32m---> 14\u001b[1;33m \u001b[0msound\u001b[0m \u001b[1;33m=\u001b[0m \u001b[0mAudioSegment\u001b[0m\u001b[1;33m.\u001b[0m\u001b[0mfrom_mp3\u001b[0m\u001b[1;33m(\u001b[0m\u001b[0minput_file\u001b[0m\u001b[1;33m)\u001b[0m\u001b[1;33m\u001b[0m\u001b[1;33m\u001b[0m\u001b[0m\n\u001b[0m\u001b[0;32m     15\u001b[0m \u001b[0msound\u001b[0m\u001b[1;33m.\u001b[0m\u001b[0mexport\u001b[0m\u001b[1;33m(\u001b[0m\u001b[0mos\u001b[0m\u001b[1;33m.\u001b[0m\u001b[0mgetcwd\u001b[0m\u001b[1;33m(\u001b[0m\u001b[1;33m)\u001b[0m\u001b[1;33m+\u001b[0m\u001b[1;34m\"/\"\u001b[0m\u001b[1;33m+\u001b[0m\u001b[0moutput_file\u001b[0m\u001b[1;33m,\u001b[0m \u001b[0mformat\u001b[0m\u001b[1;33m=\u001b[0m\u001b[1;34m\"wav\"\u001b[0m\u001b[1;33m)\u001b[0m\u001b[1;33m\u001b[0m\u001b[1;33m\u001b[0m\u001b[0m\n",
      "\u001b[1;32mD:\\Anaconda3\\lib\\site-packages\\pydub\\audio_segment.py\u001b[0m in \u001b[0;36mfrom_mp3\u001b[1;34m(cls, file, parameters)\u001b[0m\n\u001b[0;32m    794\u001b[0m     \u001b[1;33m@\u001b[0m\u001b[0mclassmethod\u001b[0m\u001b[1;33m\u001b[0m\u001b[1;33m\u001b[0m\u001b[0m\n\u001b[0;32m    795\u001b[0m     \u001b[1;32mdef\u001b[0m \u001b[0mfrom_mp3\u001b[0m\u001b[1;33m(\u001b[0m\u001b[0mcls\u001b[0m\u001b[1;33m,\u001b[0m \u001b[0mfile\u001b[0m\u001b[1;33m,\u001b[0m \u001b[0mparameters\u001b[0m\u001b[1;33m=\u001b[0m\u001b[1;32mNone\u001b[0m\u001b[1;33m)\u001b[0m\u001b[1;33m:\u001b[0m\u001b[1;33m\u001b[0m\u001b[1;33m\u001b[0m\u001b[0m\n\u001b[1;32m--> 796\u001b[1;33m         \u001b[1;32mreturn\u001b[0m \u001b[0mcls\u001b[0m\u001b[1;33m.\u001b[0m\u001b[0mfrom_file\u001b[0m\u001b[1;33m(\u001b[0m\u001b[0mfile\u001b[0m\u001b[1;33m,\u001b[0m \u001b[1;34m'mp3'\u001b[0m\u001b[1;33m,\u001b[0m \u001b[0mparameters\u001b[0m\u001b[1;33m=\u001b[0m\u001b[0mparameters\u001b[0m\u001b[1;33m)\u001b[0m\u001b[1;33m\u001b[0m\u001b[1;33m\u001b[0m\u001b[0m\n\u001b[0m\u001b[0;32m    797\u001b[0m \u001b[1;33m\u001b[0m\u001b[0m\n\u001b[0;32m    798\u001b[0m     \u001b[1;33m@\u001b[0m\u001b[0mclassmethod\u001b[0m\u001b[1;33m\u001b[0m\u001b[1;33m\u001b[0m\u001b[0m\n",
      "\u001b[1;32mD:\\Anaconda3\\lib\\site-packages\\pydub\\audio_segment.py\u001b[0m in \u001b[0;36mfrom_file\u001b[1;34m(cls, file, format, codec, parameters, start_second, duration, **kwargs)\u001b[0m\n\u001b[0;32m    726\u001b[0m             \u001b[0minfo\u001b[0m \u001b[1;33m=\u001b[0m \u001b[1;32mNone\u001b[0m\u001b[1;33m\u001b[0m\u001b[1;33m\u001b[0m\u001b[0m\n\u001b[0;32m    727\u001b[0m         \u001b[1;32melse\u001b[0m\u001b[1;33m:\u001b[0m\u001b[1;33m\u001b[0m\u001b[1;33m\u001b[0m\u001b[0m\n\u001b[1;32m--> 728\u001b[1;33m             \u001b[0minfo\u001b[0m \u001b[1;33m=\u001b[0m \u001b[0mmediainfo_json\u001b[0m\u001b[1;33m(\u001b[0m\u001b[0morig_file\u001b[0m\u001b[1;33m,\u001b[0m \u001b[0mread_ahead_limit\u001b[0m\u001b[1;33m=\u001b[0m\u001b[0mread_ahead_limit\u001b[0m\u001b[1;33m)\u001b[0m\u001b[1;33m\u001b[0m\u001b[1;33m\u001b[0m\u001b[0m\n\u001b[0m\u001b[0;32m    729\u001b[0m         \u001b[1;32mif\u001b[0m \u001b[0minfo\u001b[0m\u001b[1;33m:\u001b[0m\u001b[1;33m\u001b[0m\u001b[1;33m\u001b[0m\u001b[0m\n\u001b[0;32m    730\u001b[0m             audio_streams = [x for x in info['streams']\n",
      "\u001b[1;32mD:\\Anaconda3\\lib\\site-packages\\pydub\\utils.py\u001b[0m in \u001b[0;36mmediainfo_json\u001b[1;34m(filepath, read_ahead_limit)\u001b[0m\n\u001b[0;32m    272\u001b[0m \u001b[1;33m\u001b[0m\u001b[0m\n\u001b[0;32m    273\u001b[0m     \u001b[0mcommand\u001b[0m \u001b[1;33m=\u001b[0m \u001b[1;33m[\u001b[0m\u001b[0mprober\u001b[0m\u001b[1;33m,\u001b[0m \u001b[1;34m'-of'\u001b[0m\u001b[1;33m,\u001b[0m \u001b[1;34m'json'\u001b[0m\u001b[1;33m]\u001b[0m \u001b[1;33m+\u001b[0m \u001b[0mcommand_args\u001b[0m\u001b[1;33m\u001b[0m\u001b[1;33m\u001b[0m\u001b[0m\n\u001b[1;32m--> 274\u001b[1;33m     \u001b[0mres\u001b[0m \u001b[1;33m=\u001b[0m \u001b[0mPopen\u001b[0m\u001b[1;33m(\u001b[0m\u001b[0mcommand\u001b[0m\u001b[1;33m,\u001b[0m \u001b[0mstdin\u001b[0m\u001b[1;33m=\u001b[0m\u001b[0mstdin_parameter\u001b[0m\u001b[1;33m,\u001b[0m \u001b[0mstdout\u001b[0m\u001b[1;33m=\u001b[0m\u001b[0mPIPE\u001b[0m\u001b[1;33m,\u001b[0m \u001b[0mstderr\u001b[0m\u001b[1;33m=\u001b[0m\u001b[0mPIPE\u001b[0m\u001b[1;33m)\u001b[0m\u001b[1;33m\u001b[0m\u001b[1;33m\u001b[0m\u001b[0m\n\u001b[0m\u001b[0;32m    275\u001b[0m     \u001b[0moutput\u001b[0m\u001b[1;33m,\u001b[0m \u001b[0mstderr\u001b[0m \u001b[1;33m=\u001b[0m \u001b[0mres\u001b[0m\u001b[1;33m.\u001b[0m\u001b[0mcommunicate\u001b[0m\u001b[1;33m(\u001b[0m\u001b[0minput\u001b[0m\u001b[1;33m=\u001b[0m\u001b[0mstdin_data\u001b[0m\u001b[1;33m)\u001b[0m\u001b[1;33m\u001b[0m\u001b[1;33m\u001b[0m\u001b[0m\n\u001b[0;32m    276\u001b[0m     \u001b[0moutput\u001b[0m \u001b[1;33m=\u001b[0m \u001b[0moutput\u001b[0m\u001b[1;33m.\u001b[0m\u001b[0mdecode\u001b[0m\u001b[1;33m(\u001b[0m\u001b[1;34m\"utf-8\"\u001b[0m\u001b[1;33m,\u001b[0m \u001b[1;34m'ignore'\u001b[0m\u001b[1;33m)\u001b[0m\u001b[1;33m\u001b[0m\u001b[1;33m\u001b[0m\u001b[0m\n",
      "\u001b[1;32mD:\\Anaconda3\\lib\\subprocess.py\u001b[0m in \u001b[0;36m__init__\u001b[1;34m(self, args, bufsize, executable, stdin, stdout, stderr, preexec_fn, close_fds, shell, cwd, env, universal_newlines, startupinfo, creationflags, restore_signals, start_new_session, pass_fds, encoding, errors, text)\u001b[0m\n\u001b[0;32m    773\u001b[0m                                 \u001b[0mc2pread\u001b[0m\u001b[1;33m,\u001b[0m \u001b[0mc2pwrite\u001b[0m\u001b[1;33m,\u001b[0m\u001b[1;33m\u001b[0m\u001b[1;33m\u001b[0m\u001b[0m\n\u001b[0;32m    774\u001b[0m                                 \u001b[0merrread\u001b[0m\u001b[1;33m,\u001b[0m \u001b[0merrwrite\u001b[0m\u001b[1;33m,\u001b[0m\u001b[1;33m\u001b[0m\u001b[1;33m\u001b[0m\u001b[0m\n\u001b[1;32m--> 775\u001b[1;33m                                 restore_signals, start_new_session)\n\u001b[0m\u001b[0;32m    776\u001b[0m         \u001b[1;32mexcept\u001b[0m\u001b[1;33m:\u001b[0m\u001b[1;33m\u001b[0m\u001b[1;33m\u001b[0m\u001b[0m\n\u001b[0;32m    777\u001b[0m             \u001b[1;31m# Cleanup if the child failed starting.\u001b[0m\u001b[1;33m\u001b[0m\u001b[1;33m\u001b[0m\u001b[1;33m\u001b[0m\u001b[0m\n",
      "\u001b[1;32mD:\\Anaconda3\\lib\\subprocess.py\u001b[0m in \u001b[0;36m_execute_child\u001b[1;34m(self, args, executable, preexec_fn, close_fds, pass_fds, cwd, env, startupinfo, creationflags, shell, p2cread, p2cwrite, c2pread, c2pwrite, errread, errwrite, unused_restore_signals, unused_start_new_session)\u001b[0m\n\u001b[0;32m   1176\u001b[0m                                          \u001b[0menv\u001b[0m\u001b[1;33m,\u001b[0m\u001b[1;33m\u001b[0m\u001b[1;33m\u001b[0m\u001b[0m\n\u001b[0;32m   1177\u001b[0m                                          \u001b[0mos\u001b[0m\u001b[1;33m.\u001b[0m\u001b[0mfspath\u001b[0m\u001b[1;33m(\u001b[0m\u001b[0mcwd\u001b[0m\u001b[1;33m)\u001b[0m \u001b[1;32mif\u001b[0m \u001b[0mcwd\u001b[0m \u001b[1;32mis\u001b[0m \u001b[1;32mnot\u001b[0m \u001b[1;32mNone\u001b[0m \u001b[1;32melse\u001b[0m \u001b[1;32mNone\u001b[0m\u001b[1;33m,\u001b[0m\u001b[1;33m\u001b[0m\u001b[1;33m\u001b[0m\u001b[0m\n\u001b[1;32m-> 1178\u001b[1;33m                                          startupinfo)\n\u001b[0m\u001b[0;32m   1179\u001b[0m             \u001b[1;32mfinally\u001b[0m\u001b[1;33m:\u001b[0m\u001b[1;33m\u001b[0m\u001b[1;33m\u001b[0m\u001b[0m\n\u001b[0;32m   1180\u001b[0m                 \u001b[1;31m# Child is launched. Close the parent's copy of those pipe\u001b[0m\u001b[1;33m\u001b[0m\u001b[1;33m\u001b[0m\u001b[1;33m\u001b[0m\u001b[0m\n",
      "\u001b[1;31mFileNotFoundError\u001b[0m: [WinError 2] The system cannot find the file specified"
     ]
    }
   ],
   "source": [
    "# import required modules\n",
    "from pydub import AudioSegment\n",
    "import os\n",
    "\n",
    "AudioSegment.converter = \"C:\\\\ffmpeg\\\\ffmpeg\\\\bin\\\\ffmpeg.exe\"\n",
    "AudioSegment.ffmpeg = \"C:\\\\ffmpeg\\\\ffmpeg\\\\bin\\\\ffmpeg.exe\"\n",
    "AudioSegment.ffprobe =\"C:\\\\ffmpeg\\\\ffmpeg\\\\bin\\\\ffprobe.exe\"\n",
    "\n",
    "# assign files\n",
    "input_file = \"audio.mp3\"\n",
    "output_file = \"audio.wav\"\n",
    "\n",
    "# convert mp3 file to wav file\n",
    "sound = AudioSegment.from_mp3(input_file)\n",
    "sound.export(os.getcwd()+\"/\"+output_file, format=\"wav\")"
   ]
  },
  {
   "cell_type": "code",
   "execution_count": 5,
   "id": "3fd4ca49",
   "metadata": {},
   "outputs": [
    {
     "name": "stdout",
     "output_type": "stream",
     "text": [
      "3.8.1\n",
      "<class 'speech_recognition.AudioData'>\n"
     ]
    },
    {
     "ename": "RequestError",
     "evalue": "recognition request failed: Bad Request",
     "output_type": "error",
     "traceback": [
      "\u001b[1;31m---------------------------------------------------------------------------\u001b[0m",
      "\u001b[1;31mHTTPError\u001b[0m                                 Traceback (most recent call last)",
      "\u001b[1;32mD:\\Anaconda3\\lib\\site-packages\\speech_recognition\\__init__.py\u001b[0m in \u001b[0;36mrecognize_google\u001b[1;34m(self, audio_data, key, language, show_all)\u001b[0m\n\u001b[0;32m    839\u001b[0m         \u001b[1;32mtry\u001b[0m\u001b[1;33m:\u001b[0m\u001b[1;33m\u001b[0m\u001b[1;33m\u001b[0m\u001b[0m\n\u001b[1;32m--> 840\u001b[1;33m             \u001b[0mresponse\u001b[0m \u001b[1;33m=\u001b[0m \u001b[0murlopen\u001b[0m\u001b[1;33m(\u001b[0m\u001b[0mrequest\u001b[0m\u001b[1;33m,\u001b[0m \u001b[0mtimeout\u001b[0m\u001b[1;33m=\u001b[0m\u001b[0mself\u001b[0m\u001b[1;33m.\u001b[0m\u001b[0moperation_timeout\u001b[0m\u001b[1;33m)\u001b[0m\u001b[1;33m\u001b[0m\u001b[1;33m\u001b[0m\u001b[0m\n\u001b[0m\u001b[0;32m    841\u001b[0m         \u001b[1;32mexcept\u001b[0m \u001b[0mHTTPError\u001b[0m \u001b[1;32mas\u001b[0m \u001b[0me\u001b[0m\u001b[1;33m:\u001b[0m\u001b[1;33m\u001b[0m\u001b[1;33m\u001b[0m\u001b[0m\n",
      "\u001b[1;32mD:\\Anaconda3\\lib\\urllib\\request.py\u001b[0m in \u001b[0;36murlopen\u001b[1;34m(url, data, timeout, cafile, capath, cadefault, context)\u001b[0m\n\u001b[0;32m    221\u001b[0m         \u001b[0mopener\u001b[0m \u001b[1;33m=\u001b[0m \u001b[0m_opener\u001b[0m\u001b[1;33m\u001b[0m\u001b[1;33m\u001b[0m\u001b[0m\n\u001b[1;32m--> 222\u001b[1;33m     \u001b[1;32mreturn\u001b[0m \u001b[0mopener\u001b[0m\u001b[1;33m.\u001b[0m\u001b[0mopen\u001b[0m\u001b[1;33m(\u001b[0m\u001b[0murl\u001b[0m\u001b[1;33m,\u001b[0m \u001b[0mdata\u001b[0m\u001b[1;33m,\u001b[0m \u001b[0mtimeout\u001b[0m\u001b[1;33m)\u001b[0m\u001b[1;33m\u001b[0m\u001b[1;33m\u001b[0m\u001b[0m\n\u001b[0m\u001b[0;32m    223\u001b[0m \u001b[1;33m\u001b[0m\u001b[0m\n",
      "\u001b[1;32mD:\\Anaconda3\\lib\\urllib\\request.py\u001b[0m in \u001b[0;36mopen\u001b[1;34m(self, fullurl, data, timeout)\u001b[0m\n\u001b[0;32m    530\u001b[0m             \u001b[0mmeth\u001b[0m \u001b[1;33m=\u001b[0m \u001b[0mgetattr\u001b[0m\u001b[1;33m(\u001b[0m\u001b[0mprocessor\u001b[0m\u001b[1;33m,\u001b[0m \u001b[0mmeth_name\u001b[0m\u001b[1;33m)\u001b[0m\u001b[1;33m\u001b[0m\u001b[1;33m\u001b[0m\u001b[0m\n\u001b[1;32m--> 531\u001b[1;33m             \u001b[0mresponse\u001b[0m \u001b[1;33m=\u001b[0m \u001b[0mmeth\u001b[0m\u001b[1;33m(\u001b[0m\u001b[0mreq\u001b[0m\u001b[1;33m,\u001b[0m \u001b[0mresponse\u001b[0m\u001b[1;33m)\u001b[0m\u001b[1;33m\u001b[0m\u001b[1;33m\u001b[0m\u001b[0m\n\u001b[0m\u001b[0;32m    532\u001b[0m \u001b[1;33m\u001b[0m\u001b[0m\n",
      "\u001b[1;32mD:\\Anaconda3\\lib\\urllib\\request.py\u001b[0m in \u001b[0;36mhttp_response\u001b[1;34m(self, request, response)\u001b[0m\n\u001b[0;32m    640\u001b[0m             response = self.parent.error(\n\u001b[1;32m--> 641\u001b[1;33m                 'http', request, response, code, msg, hdrs)\n\u001b[0m\u001b[0;32m    642\u001b[0m \u001b[1;33m\u001b[0m\u001b[0m\n",
      "\u001b[1;32mD:\\Anaconda3\\lib\\urllib\\request.py\u001b[0m in \u001b[0;36merror\u001b[1;34m(self, proto, *args)\u001b[0m\n\u001b[0;32m    568\u001b[0m             \u001b[0margs\u001b[0m \u001b[1;33m=\u001b[0m \u001b[1;33m(\u001b[0m\u001b[0mdict\u001b[0m\u001b[1;33m,\u001b[0m \u001b[1;34m'default'\u001b[0m\u001b[1;33m,\u001b[0m \u001b[1;34m'http_error_default'\u001b[0m\u001b[1;33m)\u001b[0m \u001b[1;33m+\u001b[0m \u001b[0morig_args\u001b[0m\u001b[1;33m\u001b[0m\u001b[1;33m\u001b[0m\u001b[0m\n\u001b[1;32m--> 569\u001b[1;33m             \u001b[1;32mreturn\u001b[0m \u001b[0mself\u001b[0m\u001b[1;33m.\u001b[0m\u001b[0m_call_chain\u001b[0m\u001b[1;33m(\u001b[0m\u001b[1;33m*\u001b[0m\u001b[0margs\u001b[0m\u001b[1;33m)\u001b[0m\u001b[1;33m\u001b[0m\u001b[1;33m\u001b[0m\u001b[0m\n\u001b[0m\u001b[0;32m    570\u001b[0m \u001b[1;33m\u001b[0m\u001b[0m\n",
      "\u001b[1;32mD:\\Anaconda3\\lib\\urllib\\request.py\u001b[0m in \u001b[0;36m_call_chain\u001b[1;34m(self, chain, kind, meth_name, *args)\u001b[0m\n\u001b[0;32m    502\u001b[0m             \u001b[0mfunc\u001b[0m \u001b[1;33m=\u001b[0m \u001b[0mgetattr\u001b[0m\u001b[1;33m(\u001b[0m\u001b[0mhandler\u001b[0m\u001b[1;33m,\u001b[0m \u001b[0mmeth_name\u001b[0m\u001b[1;33m)\u001b[0m\u001b[1;33m\u001b[0m\u001b[1;33m\u001b[0m\u001b[0m\n\u001b[1;32m--> 503\u001b[1;33m             \u001b[0mresult\u001b[0m \u001b[1;33m=\u001b[0m \u001b[0mfunc\u001b[0m\u001b[1;33m(\u001b[0m\u001b[1;33m*\u001b[0m\u001b[0margs\u001b[0m\u001b[1;33m)\u001b[0m\u001b[1;33m\u001b[0m\u001b[1;33m\u001b[0m\u001b[0m\n\u001b[0m\u001b[0;32m    504\u001b[0m             \u001b[1;32mif\u001b[0m \u001b[0mresult\u001b[0m \u001b[1;32mis\u001b[0m \u001b[1;32mnot\u001b[0m \u001b[1;32mNone\u001b[0m\u001b[1;33m:\u001b[0m\u001b[1;33m\u001b[0m\u001b[1;33m\u001b[0m\u001b[0m\n",
      "\u001b[1;32mD:\\Anaconda3\\lib\\urllib\\request.py\u001b[0m in \u001b[0;36mhttp_error_default\u001b[1;34m(self, req, fp, code, msg, hdrs)\u001b[0m\n\u001b[0;32m    648\u001b[0m     \u001b[1;32mdef\u001b[0m \u001b[0mhttp_error_default\u001b[0m\u001b[1;33m(\u001b[0m\u001b[0mself\u001b[0m\u001b[1;33m,\u001b[0m \u001b[0mreq\u001b[0m\u001b[1;33m,\u001b[0m \u001b[0mfp\u001b[0m\u001b[1;33m,\u001b[0m \u001b[0mcode\u001b[0m\u001b[1;33m,\u001b[0m \u001b[0mmsg\u001b[0m\u001b[1;33m,\u001b[0m \u001b[0mhdrs\u001b[0m\u001b[1;33m)\u001b[0m\u001b[1;33m:\u001b[0m\u001b[1;33m\u001b[0m\u001b[1;33m\u001b[0m\u001b[0m\n\u001b[1;32m--> 649\u001b[1;33m         \u001b[1;32mraise\u001b[0m \u001b[0mHTTPError\u001b[0m\u001b[1;33m(\u001b[0m\u001b[0mreq\u001b[0m\u001b[1;33m.\u001b[0m\u001b[0mfull_url\u001b[0m\u001b[1;33m,\u001b[0m \u001b[0mcode\u001b[0m\u001b[1;33m,\u001b[0m \u001b[0mmsg\u001b[0m\u001b[1;33m,\u001b[0m \u001b[0mhdrs\u001b[0m\u001b[1;33m,\u001b[0m \u001b[0mfp\u001b[0m\u001b[1;33m)\u001b[0m\u001b[1;33m\u001b[0m\u001b[1;33m\u001b[0m\u001b[0m\n\u001b[0m\u001b[0;32m    650\u001b[0m \u001b[1;33m\u001b[0m\u001b[0m\n",
      "\u001b[1;31mHTTPError\u001b[0m: HTTP Error 400: Bad Request",
      "\nDuring handling of the above exception, another exception occurred:\n",
      "\u001b[1;31mRequestError\u001b[0m                              Traceback (most recent call last)",
      "\u001b[1;32m<ipython-input-5-a4a8378298d4>\u001b[0m in \u001b[0;36m<module>\u001b[1;34m\u001b[0m\n\u001b[0;32m      9\u001b[0m \u001b[1;33m\u001b[0m\u001b[0m\n\u001b[0;32m     10\u001b[0m \u001b[0mprint\u001b[0m\u001b[1;33m(\u001b[0m\u001b[0mtype\u001b[0m\u001b[1;33m(\u001b[0m\u001b[0maudio_text\u001b[0m\u001b[1;33m)\u001b[0m\u001b[1;33m)\u001b[0m\u001b[1;33m\u001b[0m\u001b[1;33m\u001b[0m\u001b[0m\n\u001b[1;32m---> 11\u001b[1;33m \u001b[0mprint\u001b[0m\u001b[1;33m(\u001b[0m\u001b[0mr\u001b[0m\u001b[1;33m.\u001b[0m\u001b[0mrecognize_google\u001b[0m\u001b[1;33m(\u001b[0m\u001b[0maudio_text\u001b[0m\u001b[1;33m)\u001b[0m\u001b[1;33m)\u001b[0m\u001b[1;33m\u001b[0m\u001b[1;33m\u001b[0m\u001b[0m\n\u001b[0m",
      "\u001b[1;32mD:\\Anaconda3\\lib\\site-packages\\speech_recognition\\__init__.py\u001b[0m in \u001b[0;36mrecognize_google\u001b[1;34m(self, audio_data, key, language, show_all)\u001b[0m\n\u001b[0;32m    840\u001b[0m             \u001b[0mresponse\u001b[0m \u001b[1;33m=\u001b[0m \u001b[0murlopen\u001b[0m\u001b[1;33m(\u001b[0m\u001b[0mrequest\u001b[0m\u001b[1;33m,\u001b[0m \u001b[0mtimeout\u001b[0m\u001b[1;33m=\u001b[0m\u001b[0mself\u001b[0m\u001b[1;33m.\u001b[0m\u001b[0moperation_timeout\u001b[0m\u001b[1;33m)\u001b[0m\u001b[1;33m\u001b[0m\u001b[1;33m\u001b[0m\u001b[0m\n\u001b[0;32m    841\u001b[0m         \u001b[1;32mexcept\u001b[0m \u001b[0mHTTPError\u001b[0m \u001b[1;32mas\u001b[0m \u001b[0me\u001b[0m\u001b[1;33m:\u001b[0m\u001b[1;33m\u001b[0m\u001b[1;33m\u001b[0m\u001b[0m\n\u001b[1;32m--> 842\u001b[1;33m             \u001b[1;32mraise\u001b[0m \u001b[0mRequestError\u001b[0m\u001b[1;33m(\u001b[0m\u001b[1;34m\"recognition request failed: {}\"\u001b[0m\u001b[1;33m.\u001b[0m\u001b[0mformat\u001b[0m\u001b[1;33m(\u001b[0m\u001b[0me\u001b[0m\u001b[1;33m.\u001b[0m\u001b[0mreason\u001b[0m\u001b[1;33m)\u001b[0m\u001b[1;33m)\u001b[0m\u001b[1;33m\u001b[0m\u001b[1;33m\u001b[0m\u001b[0m\n\u001b[0m\u001b[0;32m    843\u001b[0m         \u001b[1;32mexcept\u001b[0m \u001b[0mURLError\u001b[0m \u001b[1;32mas\u001b[0m \u001b[0me\u001b[0m\u001b[1;33m:\u001b[0m\u001b[1;33m\u001b[0m\u001b[1;33m\u001b[0m\u001b[0m\n\u001b[0;32m    844\u001b[0m             \u001b[1;32mraise\u001b[0m \u001b[0mRequestError\u001b[0m\u001b[1;33m(\u001b[0m\u001b[1;34m\"recognition connection failed: {}\"\u001b[0m\u001b[1;33m.\u001b[0m\u001b[0mformat\u001b[0m\u001b[1;33m(\u001b[0m\u001b[0me\u001b[0m\u001b[1;33m.\u001b[0m\u001b[0mreason\u001b[0m\u001b[1;33m)\u001b[0m\u001b[1;33m)\u001b[0m\u001b[1;33m\u001b[0m\u001b[1;33m\u001b[0m\u001b[0m\n",
      "\u001b[1;31mRequestError\u001b[0m: recognition request failed: Bad Request"
     ]
    }
   ],
   "source": [
    "import speech_recognition as sr\n",
    "print(sr.__version__)\n",
    "r = sr.Recognizer()\n",
    "\n",
    "file_audio = sr.AudioFile('converted.wav')\n",
    "\n",
    "with file_audio as source:\n",
    "    audio_text = r.record(source)\n",
    "\n",
    "print(type(audio_text))\n",
    "print(r.recognize_google(audio_text))"
   ]
  },
  {
   "cell_type": "code",
   "execution_count": 4,
   "id": "4d7dc898",
   "metadata": {},
   "outputs": [
    {
     "name": "stdout",
     "output_type": "stream",
     "text": [
      "MoviePy - Writing audio in converted.wav\n"
     ]
    },
    {
     "name": "stderr",
     "output_type": "stream",
     "text": [
      "                                                                                                                       \r"
     ]
    },
    {
     "name": "stdout",
     "output_type": "stream",
     "text": [
      "MoviePy - Done.\n"
     ]
    },
    {
     "ename": "RequestError",
     "evalue": "recognition request failed: Bad Request",
     "output_type": "error",
     "traceback": [
      "\u001b[1;31m---------------------------------------------------------------------------\u001b[0m",
      "\u001b[1;31mHTTPError\u001b[0m                                 Traceback (most recent call last)",
      "\u001b[1;32mD:\\Anaconda3\\lib\\site-packages\\speech_recognition\\__init__.py\u001b[0m in \u001b[0;36mrecognize_google\u001b[1;34m(self, audio_data, key, language, show_all)\u001b[0m\n\u001b[0;32m    839\u001b[0m         \u001b[1;32mtry\u001b[0m\u001b[1;33m:\u001b[0m\u001b[1;33m\u001b[0m\u001b[1;33m\u001b[0m\u001b[0m\n\u001b[1;32m--> 840\u001b[1;33m             \u001b[0mresponse\u001b[0m \u001b[1;33m=\u001b[0m \u001b[0murlopen\u001b[0m\u001b[1;33m(\u001b[0m\u001b[0mrequest\u001b[0m\u001b[1;33m,\u001b[0m \u001b[0mtimeout\u001b[0m\u001b[1;33m=\u001b[0m\u001b[0mself\u001b[0m\u001b[1;33m.\u001b[0m\u001b[0moperation_timeout\u001b[0m\u001b[1;33m)\u001b[0m\u001b[1;33m\u001b[0m\u001b[1;33m\u001b[0m\u001b[0m\n\u001b[0m\u001b[0;32m    841\u001b[0m         \u001b[1;32mexcept\u001b[0m \u001b[0mHTTPError\u001b[0m \u001b[1;32mas\u001b[0m \u001b[0me\u001b[0m\u001b[1;33m:\u001b[0m\u001b[1;33m\u001b[0m\u001b[1;33m\u001b[0m\u001b[0m\n",
      "\u001b[1;32mD:\\Anaconda3\\lib\\urllib\\request.py\u001b[0m in \u001b[0;36murlopen\u001b[1;34m(url, data, timeout, cafile, capath, cadefault, context)\u001b[0m\n\u001b[0;32m    221\u001b[0m         \u001b[0mopener\u001b[0m \u001b[1;33m=\u001b[0m \u001b[0m_opener\u001b[0m\u001b[1;33m\u001b[0m\u001b[1;33m\u001b[0m\u001b[0m\n\u001b[1;32m--> 222\u001b[1;33m     \u001b[1;32mreturn\u001b[0m \u001b[0mopener\u001b[0m\u001b[1;33m.\u001b[0m\u001b[0mopen\u001b[0m\u001b[1;33m(\u001b[0m\u001b[0murl\u001b[0m\u001b[1;33m,\u001b[0m \u001b[0mdata\u001b[0m\u001b[1;33m,\u001b[0m \u001b[0mtimeout\u001b[0m\u001b[1;33m)\u001b[0m\u001b[1;33m\u001b[0m\u001b[1;33m\u001b[0m\u001b[0m\n\u001b[0m\u001b[0;32m    223\u001b[0m \u001b[1;33m\u001b[0m\u001b[0m\n",
      "\u001b[1;32mD:\\Anaconda3\\lib\\urllib\\request.py\u001b[0m in \u001b[0;36mopen\u001b[1;34m(self, fullurl, data, timeout)\u001b[0m\n\u001b[0;32m    530\u001b[0m             \u001b[0mmeth\u001b[0m \u001b[1;33m=\u001b[0m \u001b[0mgetattr\u001b[0m\u001b[1;33m(\u001b[0m\u001b[0mprocessor\u001b[0m\u001b[1;33m,\u001b[0m \u001b[0mmeth_name\u001b[0m\u001b[1;33m)\u001b[0m\u001b[1;33m\u001b[0m\u001b[1;33m\u001b[0m\u001b[0m\n\u001b[1;32m--> 531\u001b[1;33m             \u001b[0mresponse\u001b[0m \u001b[1;33m=\u001b[0m \u001b[0mmeth\u001b[0m\u001b[1;33m(\u001b[0m\u001b[0mreq\u001b[0m\u001b[1;33m,\u001b[0m \u001b[0mresponse\u001b[0m\u001b[1;33m)\u001b[0m\u001b[1;33m\u001b[0m\u001b[1;33m\u001b[0m\u001b[0m\n\u001b[0m\u001b[0;32m    532\u001b[0m \u001b[1;33m\u001b[0m\u001b[0m\n",
      "\u001b[1;32mD:\\Anaconda3\\lib\\urllib\\request.py\u001b[0m in \u001b[0;36mhttp_response\u001b[1;34m(self, request, response)\u001b[0m\n\u001b[0;32m    640\u001b[0m             response = self.parent.error(\n\u001b[1;32m--> 641\u001b[1;33m                 'http', request, response, code, msg, hdrs)\n\u001b[0m\u001b[0;32m    642\u001b[0m \u001b[1;33m\u001b[0m\u001b[0m\n",
      "\u001b[1;32mD:\\Anaconda3\\lib\\urllib\\request.py\u001b[0m in \u001b[0;36merror\u001b[1;34m(self, proto, *args)\u001b[0m\n\u001b[0;32m    568\u001b[0m             \u001b[0margs\u001b[0m \u001b[1;33m=\u001b[0m \u001b[1;33m(\u001b[0m\u001b[0mdict\u001b[0m\u001b[1;33m,\u001b[0m \u001b[1;34m'default'\u001b[0m\u001b[1;33m,\u001b[0m \u001b[1;34m'http_error_default'\u001b[0m\u001b[1;33m)\u001b[0m \u001b[1;33m+\u001b[0m \u001b[0morig_args\u001b[0m\u001b[1;33m\u001b[0m\u001b[1;33m\u001b[0m\u001b[0m\n\u001b[1;32m--> 569\u001b[1;33m             \u001b[1;32mreturn\u001b[0m \u001b[0mself\u001b[0m\u001b[1;33m.\u001b[0m\u001b[0m_call_chain\u001b[0m\u001b[1;33m(\u001b[0m\u001b[1;33m*\u001b[0m\u001b[0margs\u001b[0m\u001b[1;33m)\u001b[0m\u001b[1;33m\u001b[0m\u001b[1;33m\u001b[0m\u001b[0m\n\u001b[0m\u001b[0;32m    570\u001b[0m \u001b[1;33m\u001b[0m\u001b[0m\n",
      "\u001b[1;32mD:\\Anaconda3\\lib\\urllib\\request.py\u001b[0m in \u001b[0;36m_call_chain\u001b[1;34m(self, chain, kind, meth_name, *args)\u001b[0m\n\u001b[0;32m    502\u001b[0m             \u001b[0mfunc\u001b[0m \u001b[1;33m=\u001b[0m \u001b[0mgetattr\u001b[0m\u001b[1;33m(\u001b[0m\u001b[0mhandler\u001b[0m\u001b[1;33m,\u001b[0m \u001b[0mmeth_name\u001b[0m\u001b[1;33m)\u001b[0m\u001b[1;33m\u001b[0m\u001b[1;33m\u001b[0m\u001b[0m\n\u001b[1;32m--> 503\u001b[1;33m             \u001b[0mresult\u001b[0m \u001b[1;33m=\u001b[0m \u001b[0mfunc\u001b[0m\u001b[1;33m(\u001b[0m\u001b[1;33m*\u001b[0m\u001b[0margs\u001b[0m\u001b[1;33m)\u001b[0m\u001b[1;33m\u001b[0m\u001b[1;33m\u001b[0m\u001b[0m\n\u001b[0m\u001b[0;32m    504\u001b[0m             \u001b[1;32mif\u001b[0m \u001b[0mresult\u001b[0m \u001b[1;32mis\u001b[0m \u001b[1;32mnot\u001b[0m \u001b[1;32mNone\u001b[0m\u001b[1;33m:\u001b[0m\u001b[1;33m\u001b[0m\u001b[1;33m\u001b[0m\u001b[0m\n",
      "\u001b[1;32mD:\\Anaconda3\\lib\\urllib\\request.py\u001b[0m in \u001b[0;36mhttp_error_default\u001b[1;34m(self, req, fp, code, msg, hdrs)\u001b[0m\n\u001b[0;32m    648\u001b[0m     \u001b[1;32mdef\u001b[0m \u001b[0mhttp_error_default\u001b[0m\u001b[1;33m(\u001b[0m\u001b[0mself\u001b[0m\u001b[1;33m,\u001b[0m \u001b[0mreq\u001b[0m\u001b[1;33m,\u001b[0m \u001b[0mfp\u001b[0m\u001b[1;33m,\u001b[0m \u001b[0mcode\u001b[0m\u001b[1;33m,\u001b[0m \u001b[0mmsg\u001b[0m\u001b[1;33m,\u001b[0m \u001b[0mhdrs\u001b[0m\u001b[1;33m)\u001b[0m\u001b[1;33m:\u001b[0m\u001b[1;33m\u001b[0m\u001b[1;33m\u001b[0m\u001b[0m\n\u001b[1;32m--> 649\u001b[1;33m         \u001b[1;32mraise\u001b[0m \u001b[0mHTTPError\u001b[0m\u001b[1;33m(\u001b[0m\u001b[0mreq\u001b[0m\u001b[1;33m.\u001b[0m\u001b[0mfull_url\u001b[0m\u001b[1;33m,\u001b[0m \u001b[0mcode\u001b[0m\u001b[1;33m,\u001b[0m \u001b[0mmsg\u001b[0m\u001b[1;33m,\u001b[0m \u001b[0mhdrs\u001b[0m\u001b[1;33m,\u001b[0m \u001b[0mfp\u001b[0m\u001b[1;33m)\u001b[0m\u001b[1;33m\u001b[0m\u001b[1;33m\u001b[0m\u001b[0m\n\u001b[0m\u001b[0;32m    650\u001b[0m \u001b[1;33m\u001b[0m\u001b[0m\n",
      "\u001b[1;31mHTTPError\u001b[0m: HTTP Error 400: Bad Request",
      "\nDuring handling of the above exception, another exception occurred:\n",
      "\u001b[1;31mRequestError\u001b[0m                              Traceback (most recent call last)",
      "\u001b[1;32m<ipython-input-4-5f0f18f549e5>\u001b[0m in \u001b[0;36m<module>\u001b[1;34m\u001b[0m\n\u001b[0;32m     14\u001b[0m \u001b[1;32mwith\u001b[0m \u001b[0maudio\u001b[0m \u001b[1;32mas\u001b[0m \u001b[0msource\u001b[0m\u001b[1;33m:\u001b[0m\u001b[1;33m\u001b[0m\u001b[1;33m\u001b[0m\u001b[0m\n\u001b[0;32m     15\u001b[0m     \u001b[0maudio_file\u001b[0m \u001b[1;33m=\u001b[0m \u001b[0mreco\u001b[0m\u001b[1;33m.\u001b[0m\u001b[0mrecord\u001b[0m\u001b[1;33m(\u001b[0m\u001b[0msource\u001b[0m\u001b[1;33m)\u001b[0m\u001b[1;33m\u001b[0m\u001b[1;33m\u001b[0m\u001b[0m\n\u001b[1;32m---> 16\u001b[1;33m \u001b[0mresult\u001b[0m \u001b[1;33m=\u001b[0m \u001b[0mreco\u001b[0m\u001b[1;33m.\u001b[0m\u001b[0mrecognize_google\u001b[0m\u001b[1;33m(\u001b[0m\u001b[0maudio_file\u001b[0m\u001b[1;33m)\u001b[0m\u001b[1;33m\u001b[0m\u001b[1;33m\u001b[0m\u001b[0m\n\u001b[0m\u001b[0;32m     17\u001b[0m \u001b[1;33m\u001b[0m\u001b[0m\n\u001b[0;32m     18\u001b[0m \u001b[1;31m# Step 4: Finally exporting the result\u001b[0m\u001b[1;33m\u001b[0m\u001b[1;33m\u001b[0m\u001b[1;33m\u001b[0m\u001b[0m\n",
      "\u001b[1;32mD:\\Anaconda3\\lib\\site-packages\\speech_recognition\\__init__.py\u001b[0m in \u001b[0;36mrecognize_google\u001b[1;34m(self, audio_data, key, language, show_all)\u001b[0m\n\u001b[0;32m    840\u001b[0m             \u001b[0mresponse\u001b[0m \u001b[1;33m=\u001b[0m \u001b[0murlopen\u001b[0m\u001b[1;33m(\u001b[0m\u001b[0mrequest\u001b[0m\u001b[1;33m,\u001b[0m \u001b[0mtimeout\u001b[0m\u001b[1;33m=\u001b[0m\u001b[0mself\u001b[0m\u001b[1;33m.\u001b[0m\u001b[0moperation_timeout\u001b[0m\u001b[1;33m)\u001b[0m\u001b[1;33m\u001b[0m\u001b[1;33m\u001b[0m\u001b[0m\n\u001b[0;32m    841\u001b[0m         \u001b[1;32mexcept\u001b[0m \u001b[0mHTTPError\u001b[0m \u001b[1;32mas\u001b[0m \u001b[0me\u001b[0m\u001b[1;33m:\u001b[0m\u001b[1;33m\u001b[0m\u001b[1;33m\u001b[0m\u001b[0m\n\u001b[1;32m--> 842\u001b[1;33m             \u001b[1;32mraise\u001b[0m \u001b[0mRequestError\u001b[0m\u001b[1;33m(\u001b[0m\u001b[1;34m\"recognition request failed: {}\"\u001b[0m\u001b[1;33m.\u001b[0m\u001b[0mformat\u001b[0m\u001b[1;33m(\u001b[0m\u001b[0me\u001b[0m\u001b[1;33m.\u001b[0m\u001b[0mreason\u001b[0m\u001b[1;33m)\u001b[0m\u001b[1;33m)\u001b[0m\u001b[1;33m\u001b[0m\u001b[1;33m\u001b[0m\u001b[0m\n\u001b[0m\u001b[0;32m    843\u001b[0m         \u001b[1;32mexcept\u001b[0m \u001b[0mURLError\u001b[0m \u001b[1;32mas\u001b[0m \u001b[0me\u001b[0m\u001b[1;33m:\u001b[0m\u001b[1;33m\u001b[0m\u001b[1;33m\u001b[0m\u001b[0m\n\u001b[0;32m    844\u001b[0m             \u001b[1;32mraise\u001b[0m \u001b[0mRequestError\u001b[0m\u001b[1;33m(\u001b[0m\u001b[1;34m\"recognition connection failed: {}\"\u001b[0m\u001b[1;33m.\u001b[0m\u001b[0mformat\u001b[0m\u001b[1;33m(\u001b[0m\u001b[0me\u001b[0m\u001b[1;33m.\u001b[0m\u001b[0mreason\u001b[0m\u001b[1;33m)\u001b[0m\u001b[1;33m)\u001b[0m\u001b[1;33m\u001b[0m\u001b[1;33m\u001b[0m\u001b[0m\n",
      "\u001b[1;31mRequestError\u001b[0m: recognition request failed: Bad Request"
     ]
    }
   ],
   "source": [
    "# Step 1 : Importing libararies\n",
    "import speech_recognition as sr \n",
    "import moviepy.editor as mp\n",
    "\n",
    "# Step 2: Video to Audio conversion\n",
    "\n",
    "VidClip = mp.VideoFileClip(\"video.mp4\") \n",
    "VidClip.audio.write_audiofile(\"converted.wav\")"
   ]
  },
  {
   "cell_type": "code",
   "execution_count": null,
   "id": "0567f180",
   "metadata": {},
   "outputs": [],
   "source": [
    "# Step 3: Speech recognition\n",
    "\n",
    "reco = sr.Recognizer()\n",
    "audio = sr.AudioFile(\"converted.wav\")\n",
    "with audio as source:\n",
    "    audio_file = reco.record(source)\n",
    "result = reco.recognize_google(audio_file)\n",
    "\n",
    "# Step 4: Finally exporting the result \n",
    "\n",
    "with open('SpeechText.txt',mode ='w') as file: \n",
    "    file.write(\"Recognized Speech Text:\") \n",
    "    file.write(\"\\n\") \n",
    "    file.write(result) \n",
    "    print(\"Text file ready!\")"
   ]
  },
  {
   "cell_type": "code",
   "execution_count": 1,
   "id": "d849870a",
   "metadata": {},
   "outputs": [
    {
     "ename": "TypeError",
     "evalue": "LoadLibrary() argument 1 must be str, not None",
     "output_type": "error",
     "traceback": [
      "\u001b[1;31m---------------------------------------------------------------------------\u001b[0m",
      "\u001b[1;31mTypeError\u001b[0m                                 Traceback (most recent call last)",
      "\u001b[1;32m<ipython-input-1-eff1c2164076>\u001b[0m in \u001b[0;36m<module>\u001b[1;34m\u001b[0m\n\u001b[0;32m      3\u001b[0m \u001b[1;32mfrom\u001b[0m \u001b[0mgoogletrans\u001b[0m \u001b[1;32mimport\u001b[0m \u001b[0mTranslator\u001b[0m\u001b[1;33m\u001b[0m\u001b[1;33m\u001b[0m\u001b[0m\n\u001b[0;32m      4\u001b[0m \u001b[1;32mimport\u001b[0m \u001b[0msubprocess\u001b[0m\u001b[1;33m\u001b[0m\u001b[1;33m\u001b[0m\u001b[0m\n\u001b[1;32m----> 5\u001b[1;33m \u001b[1;32mimport\u001b[0m \u001b[0mwhisper\u001b[0m\u001b[1;33m\u001b[0m\u001b[1;33m\u001b[0m\u001b[0m\n\u001b[0m\u001b[0;32m      6\u001b[0m \u001b[1;32mimport\u001b[0m \u001b[0mgetopt\u001b[0m\u001b[1;33m\u001b[0m\u001b[1;33m\u001b[0m\u001b[0m\n\u001b[0;32m      7\u001b[0m \u001b[1;32mimport\u001b[0m \u001b[0mtorch\u001b[0m\u001b[1;33m\u001b[0m\u001b[1;33m\u001b[0m\u001b[0m\n",
      "\u001b[1;32mD:\\Anaconda3\\lib\\site-packages\\whisper.py\u001b[0m in \u001b[0;36m<module>\u001b[1;34m\u001b[0m\n\u001b[0;32m     67\u001b[0m \u001b[1;32mif\u001b[0m \u001b[0mCAN_FALLOCATE\u001b[0m\u001b[1;33m:\u001b[0m\u001b[1;33m\u001b[0m\u001b[1;33m\u001b[0m\u001b[0m\n\u001b[0;32m     68\u001b[0m   \u001b[0mlibc_name\u001b[0m \u001b[1;33m=\u001b[0m \u001b[0mctypes\u001b[0m\u001b[1;33m.\u001b[0m\u001b[0mutil\u001b[0m\u001b[1;33m.\u001b[0m\u001b[0mfind_library\u001b[0m\u001b[1;33m(\u001b[0m\u001b[1;34m'c'\u001b[0m\u001b[1;33m)\u001b[0m\u001b[1;33m\u001b[0m\u001b[1;33m\u001b[0m\u001b[0m\n\u001b[1;32m---> 69\u001b[1;33m   \u001b[0mlibc\u001b[0m \u001b[1;33m=\u001b[0m \u001b[0mctypes\u001b[0m\u001b[1;33m.\u001b[0m\u001b[0mCDLL\u001b[0m\u001b[1;33m(\u001b[0m\u001b[0mlibc_name\u001b[0m\u001b[1;33m)\u001b[0m\u001b[1;33m\u001b[0m\u001b[1;33m\u001b[0m\u001b[0m\n\u001b[0m\u001b[0;32m     70\u001b[0m   \u001b[0mc_off64_t\u001b[0m \u001b[1;33m=\u001b[0m \u001b[0mctypes\u001b[0m\u001b[1;33m.\u001b[0m\u001b[0mc_int64\u001b[0m\u001b[1;33m\u001b[0m\u001b[1;33m\u001b[0m\u001b[0m\n\u001b[0;32m     71\u001b[0m   \u001b[0mc_off_t\u001b[0m \u001b[1;33m=\u001b[0m \u001b[0mctypes\u001b[0m\u001b[1;33m.\u001b[0m\u001b[0mc_int\u001b[0m\u001b[1;33m\u001b[0m\u001b[1;33m\u001b[0m\u001b[0m\n",
      "\u001b[1;32mD:\\Anaconda3\\lib\\ctypes\\__init__.py\u001b[0m in \u001b[0;36m__init__\u001b[1;34m(self, name, mode, handle, use_errno, use_last_error)\u001b[0m\n\u001b[0;32m    354\u001b[0m \u001b[1;33m\u001b[0m\u001b[0m\n\u001b[0;32m    355\u001b[0m         \u001b[1;32mif\u001b[0m \u001b[0mhandle\u001b[0m \u001b[1;32mis\u001b[0m \u001b[1;32mNone\u001b[0m\u001b[1;33m:\u001b[0m\u001b[1;33m\u001b[0m\u001b[1;33m\u001b[0m\u001b[0m\n\u001b[1;32m--> 356\u001b[1;33m             \u001b[0mself\u001b[0m\u001b[1;33m.\u001b[0m\u001b[0m_handle\u001b[0m \u001b[1;33m=\u001b[0m \u001b[0m_dlopen\u001b[0m\u001b[1;33m(\u001b[0m\u001b[0mself\u001b[0m\u001b[1;33m.\u001b[0m\u001b[0m_name\u001b[0m\u001b[1;33m,\u001b[0m \u001b[0mmode\u001b[0m\u001b[1;33m)\u001b[0m\u001b[1;33m\u001b[0m\u001b[1;33m\u001b[0m\u001b[0m\n\u001b[0m\u001b[0;32m    357\u001b[0m         \u001b[1;32melse\u001b[0m\u001b[1;33m:\u001b[0m\u001b[1;33m\u001b[0m\u001b[1;33m\u001b[0m\u001b[0m\n\u001b[0;32m    358\u001b[0m             \u001b[0mself\u001b[0m\u001b[1;33m.\u001b[0m\u001b[0m_handle\u001b[0m \u001b[1;33m=\u001b[0m \u001b[0mhandle\u001b[0m\u001b[1;33m\u001b[0m\u001b[1;33m\u001b[0m\u001b[0m\n",
      "\u001b[1;31mTypeError\u001b[0m: LoadLibrary() argument 1 must be str, not None"
     ]
    }
   ],
   "source": [
    "#!/usr/bin/env python3\n",
    "\n",
    "from googletrans import Translator\n",
    "import subprocess\n",
    "import whisper\n",
    "import getopt\n",
    "import torch\n",
    "import sys\n",
    "import re\n",
    "\n",
    "audiofile = \"audio.mp3\" # Save audio file as audio.mp3\n",
    "\n",
    "# Check wether CUDA is available or not\n",
    "def checkDevice():\n",
    "    if (torch.cuda.is_available() == 1):\n",
    "        DEVICE = \"cuda\"\n",
    "    else:\n",
    "        DEVICE = \"cpu\"\n",
    "    return DEVICE\n",
    "\n",
    "def main():\n",
    "    audio() # Download an mp3 audio file to transcribe to text\n",
    "\n",
    "\t# Select speech recognition model\n",
    "    name = input(\"Select speech recognition model name (tiny, base, small, medium, large): \")\n",
    "    model = whisper.load_model(name,device=checkDevice())\n",
    "    # Save transcribed text to file\n",
    "    result = model.transcribe(audiofile)\n",
    "    edited_transcription = re.sub('.', '.\\n', result[\"text\"]) # Put a newline character after each sentence\n",
    "    with open('transcription.txt', 'a') as file:\n",
    "        file.write(edited_transcription)\n",
    "        file.write(\"\\n\")\n",
    "\n",
    "    choice = input(\"Do you want to translate audio transcription to English? (Yes/No) \")\n",
    "    if (choice == \"Yes\"):\n",
    "        # Translate transcribed text. Credit to Harsh Jain at educative.io\n",
    "        # https://www.educative.io/answers/how-do-you-translate-text-using-python\n",
    "        translator = Translator() # Create an instance of Translator() class\n",
    "        with open('transcription.txt', 'r') as transcription:\n",
    "            contents = transcription.read()\n",
    "            translation = translator.translate(contents)\n",
    "            edited_translation = re.sub('.', '.\\n', translation.text) # Put a newline character after each sentence\n",
    "        with open('translation.txt', 'a') as file:\n",
    "            file.write(edited_translation)\n",
    "\n",
    "if __name__ == \"__main__\":\n",
    "    main()"
   ]
  },
  {
   "cell_type": "code",
   "execution_count": 6,
   "id": "cd6aa27c",
   "metadata": {
    "scrolled": true
   },
   "outputs": [
    {
     "name": "stderr",
     "output_type": "stream",
     "text": [
      "chunk:   2%|█▎                                                             | 27/1325 [00:27<22:18,  1.03s/it, now=None]"
     ]
    },
    {
     "name": "stdout",
     "output_type": "stream",
     "text": [
      "The video is 3120 seconds\n",
      "Moviepy - Running:\n",
      ">>> \"+ \" \".join(cmd)\n",
      "Moviepy - Command successful\n"
     ]
    },
    {
     "name": "stderr",
     "output_type": "stream",
     "text": [
      "chunk:   2%|█▎                                                             | 27/1325 [00:28<22:39,  1.05s/it, now=None]"
     ]
    },
    {
     "name": "stdout",
     "output_type": "stream",
     "text": [
      "MoviePy - Writing audio in converted/converted1.wav\n"
     ]
    },
    {
     "name": "stderr",
     "output_type": "stream",
     "text": [
      "\n",
      "chunk:   0%|                                                                        | 0/1325 [00:00<?, ?it/s, now=None]\u001b[A\n",
      "chunk:   0%|▎                                                               | 6/1325 [00:00<00:22, 59.43it/s, now=None]\u001b[A\n",
      "chunk:  15%|█████████▏                                                  | 204/1325 [00:00<00:00, 1158.13it/s, now=None]\u001b[A\n",
      "chunk:  31%|██████████████████▎                                         | 405/1325 [00:00<00:00, 1534.97it/s, now=None]\u001b[A\n",
      "chunk:  43%|█████████████████████████▊                                  | 571/1325 [00:00<00:00, 1577.97it/s, now=None]\u001b[A\n",
      "chunk:  56%|█████████████████████████████████▎                          | 737/1325 [00:00<00:00, 1601.88it/s, now=None]\u001b[A\n",
      "chunk:  68%|████████████████████████████████████████▊                   | 900/1325 [00:00<00:00, 1595.53it/s, now=None]\u001b[A\n",
      "chunk:  81%|███████████████████████████████████████████████▋           | 1071/1325 [00:00<00:00, 1596.72it/s, now=None]\u001b[A\n",
      "chunk:  96%|████████████████████████████████████████████████████████▌  | 1271/1325 [00:00<00:00, 1717.07it/s, now=None]\u001b[A\n",
      "chunk:   2%|█▎                                                             | 27/1325 [00:29<23:23,  1.08s/it, now=None]\u001b[A"
     ]
    },
    {
     "name": "stdout",
     "output_type": "stream",
     "text": [
      "MoviePy - Done.\n"
     ]
    },
    {
     "name": "stderr",
     "output_type": "stream",
     "text": [
      "chunk:   2%|█▎                                                             | 27/1325 [00:54<43:27,  2.01s/it, now=None]"
     ]
    },
    {
     "name": "stdout",
     "output_type": "stream",
     "text": [
      "Moviepy - Running:\n",
      ">>> \"+ \" \".join(cmd)\n"
     ]
    },
    {
     "name": "stderr",
     "output_type": "stream",
     "text": [
      "chunk:   2%|█▎                                                             | 27/1325 [00:54<43:57,  2.03s/it, now=None]"
     ]
    },
    {
     "name": "stdout",
     "output_type": "stream",
     "text": [
      "Moviepy - Command successful\n"
     ]
    },
    {
     "name": "stderr",
     "output_type": "stream",
     "text": [
      "chunk:   2%|█▎                                                             | 27/1325 [00:57<45:41,  2.11s/it, now=None]"
     ]
    },
    {
     "name": "stdout",
     "output_type": "stream",
     "text": [
      "MoviePy - Writing audio in converted/converted2.wav\n"
     ]
    },
    {
     "name": "stderr",
     "output_type": "stream",
     "text": [
      "\n",
      "chunk:   0%|                                                                        | 0/1471 [00:00<?, ?it/s, now=None]\u001b[A\n",
      "chunk:   0%|▏                                                               | 3/1471 [00:00<00:49, 29.54it/s, now=None]\u001b[A\n",
      "chunk:  13%|███████▊                                                    | 193/1471 [00:00<00:01, 1116.59it/s, now=None]\u001b[A\n",
      "chunk:  25%|██████████████▊                                             | 363/1471 [00:00<00:00, 1375.37it/s, now=None]\u001b[A\n",
      "chunk:  36%|█████████████████████▌                                      | 529/1471 [00:00<00:00, 1481.55it/s, now=None]\u001b[A\n",
      "chunk:  50%|█████████████████████████████▋                              | 729/1471 [00:00<00:00, 1661.67it/s, now=None]\u001b[A\n",
      "chunk:  62%|█████████████████████████████████████▍                      | 918/1471 [00:00<00:00, 1710.27it/s, now=None]\u001b[A\n",
      "chunk:  76%|█████████████████████████████████████████████              | 1122/1471 [00:00<00:00, 1771.02it/s, now=None]\u001b[A\n",
      "chunk:  90%|█████████████████████████████████████████████████████▏     | 1326/1471 [00:00<00:00, 1799.06it/s, now=None]\u001b[A\n",
      "chunk:   2%|█▎                                                             | 27/1325 [00:58<46:47,  2.16s/it, now=None]\u001b[A"
     ]
    },
    {
     "name": "stdout",
     "output_type": "stream",
     "text": [
      "MoviePy - Done.\n"
     ]
    },
    {
     "name": "stderr",
     "output_type": "stream",
     "text": [
      "chunk:   2%|█▏                                                           | 27/1325 [01:35<1:16:35,  3.54s/it, now=None]"
     ]
    },
    {
     "name": "stdout",
     "output_type": "stream",
     "text": [
      "Moviepy - Running:\n",
      ">>> \"+ \" \".join(cmd)\n"
     ]
    },
    {
     "name": "stderr",
     "output_type": "stream",
     "text": [
      "chunk:   2%|█▏                                                           | 27/1325 [01:36<1:17:03,  3.56s/it, now=None]"
     ]
    },
    {
     "name": "stdout",
     "output_type": "stream",
     "text": [
      "Moviepy - Command successful\n"
     ]
    },
    {
     "name": "stderr",
     "output_type": "stream",
     "text": [
      "chunk:   2%|█▏                                                           | 27/1325 [01:38<1:18:49,  3.64s/it, now=None]"
     ]
    },
    {
     "name": "stdout",
     "output_type": "stream",
     "text": [
      "MoviePy - Writing audio in converted/converted3.wav\n"
     ]
    },
    {
     "name": "stderr",
     "output_type": "stream",
     "text": [
      "\n",
      "chunk:   0%|                                                                        | 0/1381 [00:00<?, ?it/s, now=None]\u001b[A\n",
      "chunk:   2%|█▌                                                            | 34/1381 [00:00<00:03, 337.14it/s, now=None]\u001b[A\n",
      "chunk:  18%|███████████                                                 | 255/1381 [00:00<00:00, 1378.90it/s, now=None]\u001b[A\n",
      "chunk:  33%|███████████████████▋                                        | 454/1381 [00:00<00:00, 1644.71it/s, now=None]\u001b[A\n",
      "chunk:  45%|██████████████████████████▉                                 | 619/1381 [00:00<00:00, 1640.82it/s, now=None]\u001b[A\n",
      "chunk:  59%|███████████████████████████████████▍                        | 816/1381 [00:00<00:00, 1752.17it/s, now=None]\u001b[A\n",
      "chunk:  72%|███████████████████████████████████████████                 | 991/1381 [00:00<00:00, 1734.27it/s, now=None]\u001b[A\n",
      "chunk:  85%|██████████████████████████████████████████████████▏        | 1175/1381 [00:00<00:00, 1763.00it/s, now=None]\u001b[A\n",
      "chunk:  98%|█████████████████████████████████████████████████████████▊ | 1354/1381 [00:00<00:00, 1766.27it/s, now=None]\u001b[A\n",
      "chunk:   2%|█▏                                                           | 27/1325 [01:39<1:19:50,  3.69s/it, now=None]\u001b[A"
     ]
    },
    {
     "name": "stdout",
     "output_type": "stream",
     "text": [
      "MoviePy - Done.\n"
     ]
    },
    {
     "name": "stderr",
     "output_type": "stream",
     "text": [
      "chunk:   2%|█▏                                                           | 27/1325 [02:22<1:54:00,  5.27s/it, now=None]"
     ]
    },
    {
     "name": "stdout",
     "output_type": "stream",
     "text": [
      "Moviepy - Running:\n",
      ">>> \"+ \" \".join(cmd)\n"
     ]
    },
    {
     "name": "stderr",
     "output_type": "stream",
     "text": [
      "chunk:   2%|█▏                                                           | 27/1325 [02:22<1:54:31,  5.29s/it, now=None]"
     ]
    },
    {
     "name": "stdout",
     "output_type": "stream",
     "text": [
      "Moviepy - Command successful\n"
     ]
    },
    {
     "name": "stderr",
     "output_type": "stream",
     "text": [
      "chunk:   2%|█▏                                                           | 27/1325 [02:24<1:56:06,  5.37s/it, now=None]"
     ]
    },
    {
     "name": "stdout",
     "output_type": "stream",
     "text": [
      "MoviePy - Writing audio in converted/converted4.wav\n"
     ]
    },
    {
     "name": "stderr",
     "output_type": "stream",
     "text": [
      "\n",
      "chunk:   0%|                                                                        | 0/1409 [00:00<?, ?it/s, now=None]\u001b[A\n",
      "chunk:   0%|▏                                                               | 3/1409 [00:00<00:51, 27.54it/s, now=None]\u001b[A\n",
      "chunk:  14%|████████▋                                                   | 203/1409 [00:00<00:01, 1140.52it/s, now=None]\u001b[A\n",
      "chunk:  25%|███████████████▏                                            | 357/1409 [00:00<00:00, 1279.22it/s, now=None]\u001b[A\n",
      "chunk:  36%|█████████████████████▍                                      | 504/1409 [00:00<00:00, 1347.27it/s, now=None]\u001b[A\n",
      "chunk:  46%|███████████████████████████▎                                | 642/1409 [00:00<00:00, 1349.57it/s, now=None]\u001b[A\n",
      "chunk:  56%|█████████████████████████████████▊                          | 795/1409 [00:00<00:00, 1405.29it/s, now=None]\u001b[A\n",
      "chunk:  67%|████████████████████████████████████████                    | 940/1409 [00:00<00:00, 1415.39it/s, now=None]\u001b[A\n",
      "chunk:  78%|██████████████████████████████████████████████             | 1100/1409 [00:00<00:00, 1469.07it/s, now=None]\u001b[A\n",
      "chunk:  89%|████████████████████████████████████████████████████▎      | 1249/1409 [00:00<00:00, 1431.55it/s, now=None]\u001b[A\n",
      "chunk:  99%|██████████████████████████████████████████████████████████▎| 1393/1409 [00:01<00:00, 1345.55it/s, now=None]\u001b[A\n",
      "chunk:   2%|█▏                                                           | 27/1325 [02:26<1:57:25,  5.43s/it, now=None]\u001b[A"
     ]
    },
    {
     "name": "stdout",
     "output_type": "stream",
     "text": [
      "MoviePy - Done.\n"
     ]
    },
    {
     "name": "stderr",
     "output_type": "stream",
     "text": [
      "chunk:   2%|█▏                                                           | 27/1325 [02:56<2:21:48,  6.56s/it, now=None]"
     ]
    },
    {
     "name": "stdout",
     "output_type": "stream",
     "text": [
      "Moviepy - Running:\n",
      ">>> \"+ \" \".join(cmd)\n"
     ]
    },
    {
     "name": "stderr",
     "output_type": "stream",
     "text": [
      "chunk:   2%|█▏                                                           | 27/1325 [02:57<2:22:17,  6.58s/it, now=None]"
     ]
    },
    {
     "name": "stdout",
     "output_type": "stream",
     "text": [
      "Moviepy - Command successful\n"
     ]
    },
    {
     "name": "stderr",
     "output_type": "stream",
     "text": [
      "chunk:   2%|█▏                                                           | 27/1325 [02:59<2:23:40,  6.64s/it, now=None]"
     ]
    },
    {
     "name": "stdout",
     "output_type": "stream",
     "text": [
      "MoviePy - Writing audio in converted/converted5.wav\n"
     ]
    },
    {
     "name": "stderr",
     "output_type": "stream",
     "text": [
      "\n",
      "chunk:   0%|                                                                        | 0/1437 [00:00<?, ?it/s, now=None]\u001b[A\n",
      "chunk:   0%|▏                                                               | 3/1437 [00:00<00:48, 29.72it/s, now=None]\u001b[A\n",
      "chunk:  11%|██████▌                                                      | 154/1437 [00:00<00:01, 892.18it/s, now=None]\u001b[A\n",
      "chunk:  26%|███████████████▌                                            | 372/1437 [00:00<00:00, 1470.93it/s, now=None]\u001b[A\n",
      "chunk:  38%|███████████████████████                                     | 553/1437 [00:00<00:00, 1596.33it/s, now=None]\u001b[A\n",
      "chunk:  53%|███████████████████████████████▊                            | 763/1437 [00:00<00:00, 1770.76it/s, now=None]\u001b[A\n",
      "chunk:  67%|████████████████████████████████████████▏                   | 962/1437 [00:00<00:00, 1842.21it/s, now=None]\u001b[A\n",
      "chunk:  82%|████████████████████████████████████████████████▏          | 1174/1437 [00:00<00:00, 1926.60it/s, now=None]\u001b[A\n",
      "chunk:  96%|████████████████████████████████████████████████████████▍  | 1376/1437 [00:00<00:00, 1952.38it/s, now=None]\u001b[A\n",
      "chunk:   2%|█▏                                                           | 27/1325 [03:00<2:24:45,  6.69s/it, now=None]\u001b[A"
     ]
    },
    {
     "name": "stdout",
     "output_type": "stream",
     "text": [
      "MoviePy - Done.\n"
     ]
    },
    {
     "name": "stderr",
     "output_type": "stream",
     "text": [
      "chunk:   2%|█▏                                                           | 27/1325 [03:30<2:48:20,  7.78s/it, now=None]"
     ]
    },
    {
     "name": "stdout",
     "output_type": "stream",
     "text": [
      "Moviepy - Running:\n",
      ">>> \"+ \" \".join(cmd)\n"
     ]
    },
    {
     "name": "stderr",
     "output_type": "stream",
     "text": [
      "chunk:   2%|█▏                                                           | 27/1325 [03:30<2:48:51,  7.81s/it, now=None]"
     ]
    },
    {
     "name": "stdout",
     "output_type": "stream",
     "text": [
      "Moviepy - Command successful\n"
     ]
    },
    {
     "name": "stderr",
     "output_type": "stream",
     "text": [
      "chunk:   2%|█▏                                                           | 27/1325 [03:32<2:50:32,  7.88s/it, now=None]"
     ]
    },
    {
     "name": "stdout",
     "output_type": "stream",
     "text": [
      "MoviePy - Writing audio in converted/converted6.wav\n"
     ]
    },
    {
     "name": "stderr",
     "output_type": "stream",
     "text": [
      "\n",
      "chunk:   0%|                                                                        | 0/1465 [00:00<?, ?it/s, now=None]\u001b[A\n",
      "chunk:   1%|▊                                                             | 20/1465 [00:00<00:07, 198.09it/s, now=None]\u001b[A\n",
      "chunk:  15%|█████████▎                                                  | 227/1465 [00:00<00:00, 1290.36it/s, now=None]\u001b[A\n",
      "chunk:  28%|████████████████▉                                           | 413/1465 [00:00<00:00, 1542.79it/s, now=None]\u001b[A\n",
      "chunk:  42%|█████████████████████████                                   | 612/1465 [00:00<00:00, 1685.76it/s, now=None]\u001b[A\n",
      "chunk:  53%|███████████████████████████████▉                            | 781/1465 [00:00<00:00, 1329.11it/s, now=None]\u001b[A\n",
      "chunk:  63%|█████████████████████████████████████▊                      | 924/1465 [00:00<00:00, 1238.02it/s, now=None]\u001b[A\n",
      "chunk:  72%|██████████████████████████████████████████▍                | 1055/1465 [00:00<00:00, 1169.04it/s, now=None]\u001b[A\n",
      "chunk:  82%|████████████████████████████████████████████████▎          | 1200/1465 [00:00<00:00, 1240.31it/s, now=None]\u001b[A\n",
      "chunk:  92%|██████████████████████████████████████████████████████▎    | 1350/1465 [00:01<00:00, 1308.06it/s, now=None]\u001b[A\n",
      "chunk:   2%|█▏                                                           | 27/1325 [03:34<2:51:47,  7.94s/it, now=None]\u001b[A"
     ]
    },
    {
     "name": "stdout",
     "output_type": "stream",
     "text": [
      "MoviePy - Done.\n"
     ]
    },
    {
     "name": "stderr",
     "output_type": "stream",
     "text": [
      "chunk:   2%|█▏                                                           | 27/1325 [04:09<3:19:42,  9.23s/it, now=None]"
     ]
    },
    {
     "name": "stdout",
     "output_type": "stream",
     "text": [
      "Moviepy - Running:\n",
      ">>> \"+ \" \".join(cmd)\n"
     ]
    },
    {
     "name": "stderr",
     "output_type": "stream",
     "text": [
      "chunk:   2%|█▏                                                           | 27/1325 [04:09<3:20:14,  9.26s/it, now=None]"
     ]
    },
    {
     "name": "stdout",
     "output_type": "stream",
     "text": [
      "Moviepy - Command successful\n"
     ]
    },
    {
     "name": "stderr",
     "output_type": "stream",
     "text": [
      "chunk:   2%|█▏                                                           | 27/1325 [04:11<3:21:44,  9.33s/it, now=None]"
     ]
    },
    {
     "name": "stdout",
     "output_type": "stream",
     "text": [
      "MoviePy - Writing audio in converted/converted7.wav\n"
     ]
    },
    {
     "name": "stderr",
     "output_type": "stream",
     "text": [
      "\n",
      "chunk:   0%|                                                                        | 0/1376 [00:00<?, ?it/s, now=None]\u001b[A\n",
      "chunk:   1%|▋                                                             | 15/1376 [00:00<00:09, 149.54it/s, now=None]\u001b[A\n",
      "chunk:  15%|████████▉                                                   | 204/1376 [00:00<00:01, 1132.53it/s, now=None]\u001b[A\n",
      "chunk:  30%|█████████████████▊                                          | 408/1376 [00:00<00:00, 1505.59it/s, now=None]\u001b[A\n",
      "chunk:  44%|██████████████████████████▌                                 | 609/1376 [00:00<00:00, 1693.63it/s, now=None]\u001b[A\n",
      "chunk:  57%|██████████████████████████████████▎                         | 786/1376 [00:00<00:00, 1714.95it/s, now=None]\u001b[A\n",
      "chunk:  71%|██████████████████████████████████████████▋                 | 978/1376 [00:00<00:00, 1778.05it/s, now=None]\u001b[A\n",
      "chunk:  86%|██████████████████████████████████████████████████▌        | 1178/1376 [00:00<00:00, 1844.01it/s, now=None]\u001b[A\n",
      "chunk:   2%|█▏                                                           | 27/1325 [04:13<3:22:47,  9.37s/it, now=None]\u001b[A"
     ]
    },
    {
     "name": "stdout",
     "output_type": "stream",
     "text": [
      "MoviePy - Done.\n"
     ]
    },
    {
     "name": "stderr",
     "output_type": "stream",
     "text": [
      "chunk:   2%|█▏                                                           | 27/1325 [04:53<3:55:14, 10.87s/it, now=None]"
     ]
    },
    {
     "name": "stdout",
     "output_type": "stream",
     "text": [
      "Moviepy - Running:\n",
      ">>> \"+ \" \".join(cmd)\n"
     ]
    },
    {
     "name": "stderr",
     "output_type": "stream",
     "text": [
      "chunk:   2%|█▏                                                           | 27/1325 [04:54<3:55:42, 10.90s/it, now=None]"
     ]
    },
    {
     "name": "stdout",
     "output_type": "stream",
     "text": [
      "Moviepy - Command successful\n"
     ]
    },
    {
     "name": "stderr",
     "output_type": "stream",
     "text": [
      "chunk:   2%|█▏                                                           | 27/1325 [04:56<3:57:20, 10.97s/it, now=None]"
     ]
    },
    {
     "name": "stdout",
     "output_type": "stream",
     "text": [
      "MoviePy - Writing audio in converted/converted8.wav\n"
     ]
    },
    {
     "name": "stderr",
     "output_type": "stream",
     "text": [
      "\n",
      "chunk:   0%|                                                                        | 0/1404 [00:00<?, ?it/s, now=None]\u001b[A\n",
      "chunk:   2%|█▎                                                            | 29/1404 [00:00<00:04, 288.40it/s, now=None]\u001b[A\n",
      "chunk:  18%|██████████▌                                                 | 246/1404 [00:00<00:00, 1385.04it/s, now=None]\u001b[A\n",
      "chunk:  32%|███████████████████▏                                        | 450/1404 [00:00<00:00, 1675.66it/s, now=None]\u001b[A\n",
      "chunk:  44%|██████████████████████████▍                                 | 619/1404 [00:00<00:00, 1542.38it/s, now=None]\u001b[A\n",
      "chunk:  55%|█████████████████████████████████                           | 775/1404 [00:00<00:00, 1208.07it/s, now=None]\u001b[A\n",
      "chunk:  65%|██████████████████████████████████████▉                     | 911/1404 [00:00<00:00, 1246.58it/s, now=None]\u001b[A\n",
      "chunk:  74%|███████████████████████████████████████████▉               | 1045/1404 [00:00<00:00, 1248.50it/s, now=None]\u001b[A\n",
      "chunk:  87%|███████████████████████████████████████████████████▍       | 1224/1404 [00:00<00:00, 1386.15it/s, now=None]\u001b[A\n",
      "chunk:   2%|█▏                                                           | 27/1325 [04:57<3:58:31, 11.03s/it, now=None]\u001b[A"
     ]
    },
    {
     "name": "stdout",
     "output_type": "stream",
     "text": [
      "MoviePy - Done.\n"
     ]
    },
    {
     "name": "stderr",
     "output_type": "stream",
     "text": [
      "chunk:   2%|█▏                                                           | 27/1325 [05:41<4:33:37, 12.65s/it, now=None]"
     ]
    },
    {
     "name": "stdout",
     "output_type": "stream",
     "text": [
      "Moviepy - Running:\n",
      ">>> \"+ \" \".join(cmd)\n"
     ]
    },
    {
     "name": "stderr",
     "output_type": "stream",
     "text": [
      "chunk:   2%|█▏                                                           | 27/1325 [05:42<4:34:06, 12.67s/it, now=None]"
     ]
    },
    {
     "name": "stdout",
     "output_type": "stream",
     "text": [
      "Moviepy - Command successful\n"
     ]
    },
    {
     "name": "stderr",
     "output_type": "stream",
     "text": [
      "chunk:   2%|█▏                                                           | 27/1325 [05:44<4:35:43, 12.75s/it, now=None]"
     ]
    },
    {
     "name": "stdout",
     "output_type": "stream",
     "text": [
      "MoviePy - Writing audio in converted/converted9.wav\n"
     ]
    },
    {
     "name": "stderr",
     "output_type": "stream",
     "text": [
      "\n",
      "chunk:   0%|                                                                        | 0/1432 [00:00<?, ?it/s, now=None]\u001b[A\n",
      "chunk:   0%|▏                                                               | 3/1432 [00:00<00:52, 27.29it/s, now=None]\u001b[A\n",
      "chunk:  14%|████████▌                                                   | 204/1432 [00:00<00:01, 1135.29it/s, now=None]\u001b[A\n",
      "chunk:  28%|████████████████▉                                           | 405/1432 [00:00<00:00, 1517.20it/s, now=None]\u001b[A\n",
      "chunk:  39%|███████████████████████▌                                    | 561/1432 [00:00<00:00, 1429.12it/s, now=None]\u001b[A\n",
      "chunk:  52%|███████████████████████████████▎                            | 747/1432 [00:00<00:00, 1570.61it/s, now=None]\u001b[A\n",
      "chunk:  65%|███████████████████████████████████████                     | 932/1432 [00:00<00:00, 1656.68it/s, now=None]\u001b[A\n",
      "chunk:  80%|██████████████████████████████████████████████▉            | 1139/1432 [00:00<00:00, 1782.47it/s, now=None]\u001b[A\n",
      "chunk:  93%|██████████████████████████████████████████████████████▋    | 1326/1432 [00:00<00:00, 1798.84it/s, now=None]\u001b[A\n",
      "chunk:   2%|█▏                                                           | 27/1325 [05:45<4:36:49, 12.80s/it, now=None]\u001b[A"
     ]
    },
    {
     "name": "stdout",
     "output_type": "stream",
     "text": [
      "MoviePy - Done.\n"
     ]
    },
    {
     "name": "stderr",
     "output_type": "stream",
     "text": [
      "chunk:   2%|█▏                                                           | 27/1325 [06:29<5:12:25, 14.44s/it, now=None]"
     ]
    },
    {
     "name": "stdout",
     "output_type": "stream",
     "text": [
      "Moviepy - Running:\n",
      ">>> \"+ \" \".join(cmd)\n"
     ]
    },
    {
     "name": "stderr",
     "output_type": "stream",
     "text": [
      "chunk:   2%|█▏                                                           | 27/1325 [06:30<5:13:00, 14.47s/it, now=None]"
     ]
    },
    {
     "name": "stdout",
     "output_type": "stream",
     "text": [
      "Moviepy - Command successful\n"
     ]
    },
    {
     "name": "stderr",
     "output_type": "stream",
     "text": [
      "chunk:   2%|█▏                                                           | 27/1325 [06:32<5:14:38, 14.54s/it, now=None]"
     ]
    },
    {
     "name": "stdout",
     "output_type": "stream",
     "text": [
      "MoviePy - Writing audio in converted/converted10.wav\n"
     ]
    },
    {
     "name": "stderr",
     "output_type": "stream",
     "text": [
      "\n",
      "chunk:   0%|                                                                        | 0/1460 [00:00<?, ?it/s, now=None]\u001b[A\n",
      "chunk:   0%|▏                                                               | 3/1460 [00:00<00:51, 28.51it/s, now=None]\u001b[A\n",
      "chunk:  12%|███████▍                                                    | 181/1460 [00:00<00:01, 1019.76it/s, now=None]\u001b[A\n",
      "chunk:  19%|███████████▋                                                | 284/1460 [00:00<00:01, 1006.60it/s, now=None]\u001b[A\n",
      "chunk:  28%|████████████████▊                                           | 408/1460 [00:00<00:00, 1064.04it/s, now=None]\u001b[A\n",
      "chunk:  37%|██████████████████████▏                                     | 540/1460 [00:00<00:00, 1149.43it/s, now=None]\u001b[A\n",
      "chunk:  51%|██████████████████████████████▎                             | 738/1460 [00:00<00:00, 1420.38it/s, now=None]\u001b[A\n",
      "chunk:  64%|██████████████████████████████████████▏                     | 930/1460 [00:00<00:00, 1575.86it/s, now=None]\u001b[A\n",
      "chunk:  77%|█████████████████████████████████████████████▎             | 1122/1460 [00:00<00:00, 1658.10it/s, now=None]\u001b[A\n",
      "chunk:  91%|█████████████████████████████████████████████████████▌     | 1326/1460 [00:00<00:00, 1707.39it/s, now=None]\u001b[A\n",
      "chunk:   2%|█▏                                                           | 27/1325 [06:34<5:15:52, 14.60s/it, now=None]\u001b[A"
     ]
    },
    {
     "name": "stdout",
     "output_type": "stream",
     "text": [
      "MoviePy - Done.\n"
     ]
    },
    {
     "name": "stderr",
     "output_type": "stream",
     "text": [
      "chunk:   2%|█▏                                                           | 27/1325 [07:08<5:43:43, 15.89s/it, now=None]"
     ]
    },
    {
     "name": "stdout",
     "output_type": "stream",
     "text": [
      "Moviepy - Running:\n",
      ">>> \"+ \" \".join(cmd)\n"
     ]
    },
    {
     "name": "stderr",
     "output_type": "stream",
     "text": [
      "chunk:   2%|█▏                                                           | 27/1325 [07:09<5:44:12, 15.91s/it, now=None]"
     ]
    },
    {
     "name": "stdout",
     "output_type": "stream",
     "text": [
      "Moviepy - Command successful\n"
     ]
    },
    {
     "name": "stderr",
     "output_type": "stream",
     "text": [
      "chunk:   2%|█▏                                                           | 27/1325 [07:11<5:45:40, 15.98s/it, now=None]"
     ]
    },
    {
     "name": "stdout",
     "output_type": "stream",
     "text": [
      "MoviePy - Writing audio in converted/converted11.wav\n"
     ]
    },
    {
     "name": "stderr",
     "output_type": "stream",
     "text": [
      "\n",
      "chunk:   0%|                                                                        | 0/1370 [00:00<?, ?it/s, now=None]\u001b[A\n",
      "chunk:   0%|▏                                                               | 3/1370 [00:00<00:45, 29.72it/s, now=None]\u001b[A\n",
      "chunk:  16%|█████████▎                                                  | 213/1370 [00:00<00:00, 1236.00it/s, now=None]\u001b[A\n",
      "chunk:  25%|██████████████▊                                             | 337/1370 [00:00<00:00, 1205.29it/s, now=None]\u001b[A\n",
      "chunk:  34%|████████████████████                                        | 459/1370 [00:00<00:00, 1197.35it/s, now=None]\u001b[A\n",
      "chunk:  48%|█████████████████████████████                               | 663/1370 [00:00<00:00, 1464.54it/s, now=None]\u001b[A\n",
      "chunk:  63%|█████████████████████████████████████▉                      | 867/1370 [00:00<00:00, 1628.35it/s, now=None]\u001b[A\n",
      "chunk:  78%|██████████████████████████████████████████████             | 1071/1370 [00:00<00:00, 1721.16it/s, now=None]\u001b[A\n",
      "chunk:  93%|██████████████████████████████████████████████████████▉    | 1275/1370 [00:00<00:00, 1808.38it/s, now=None]\u001b[A\n",
      "chunk:   2%|█▏                                                           | 27/1325 [07:12<5:46:46, 16.03s/it, now=None]\u001b[A"
     ]
    },
    {
     "name": "stdout",
     "output_type": "stream",
     "text": [
      "MoviePy - Done.\n"
     ]
    },
    {
     "name": "stderr",
     "output_type": "stream",
     "text": [
      "chunk:   2%|█▏                                                           | 27/1325 [07:39<6:07:57, 17.01s/it, now=None]"
     ]
    },
    {
     "name": "stdout",
     "output_type": "stream",
     "text": [
      "Moviepy - Running:\n",
      ">>> \"+ \" \".join(cmd)\n"
     ]
    },
    {
     "name": "stderr",
     "output_type": "stream",
     "text": [
      "chunk:   2%|█▏                                                           | 27/1325 [07:39<6:08:27, 17.03s/it, now=None]"
     ]
    },
    {
     "name": "stdout",
     "output_type": "stream",
     "text": [
      "Moviepy - Command successful\n"
     ]
    },
    {
     "name": "stderr",
     "output_type": "stream",
     "text": [
      "chunk:   2%|█▏                                                           | 27/1325 [07:41<6:10:01, 17.10s/it, now=None]"
     ]
    },
    {
     "name": "stdout",
     "output_type": "stream",
     "text": [
      "MoviePy - Writing audio in converted/converted12.wav\n"
     ]
    },
    {
     "name": "stderr",
     "output_type": "stream",
     "text": [
      "\n",
      "chunk:   0%|                                                                        | 0/1398 [00:00<?, ?it/s, now=None]\u001b[A\n",
      "chunk:   2%|█▏                                                            | 26/1398 [00:00<00:05, 257.97it/s, now=None]\u001b[A\n",
      "chunk:  14%|████████▌                                                   | 200/1398 [00:00<00:01, 1120.75it/s, now=None]\u001b[A\n",
      "chunk:  26%|███████████████▎                                            | 357/1398 [00:00<00:00, 1319.27it/s, now=None]\u001b[A\n",
      "chunk:  37%|██████████████████████▎                                     | 520/1398 [00:00<00:00, 1435.96it/s, now=None]\u001b[A\n",
      "chunk:  51%|██████████████████████████████▋                             | 714/1398 [00:00<00:00, 1582.95it/s, now=None]\u001b[A\n",
      "chunk:  62%|█████████████████████████████████████▍                      | 872/1398 [00:00<00:00, 1546.12it/s, now=None]\u001b[A\n",
      "chunk:  76%|█████████████████████████████████████████████              | 1069/1398 [00:00<00:00, 1675.91it/s, now=None]\u001b[A\n",
      "chunk:  91%|█████████████████████████████████████████████████████▊     | 1275/1398 [00:00<00:00, 1768.42it/s, now=None]\u001b[A\n",
      "chunk:   2%|█▏                                                           | 27/1325 [07:43<6:11:05, 17.15s/it, now=None]\u001b[A"
     ]
    },
    {
     "name": "stdout",
     "output_type": "stream",
     "text": [
      "MoviePy - Done.\n"
     ]
    },
    {
     "name": "stderr",
     "output_type": "stream",
     "text": [
      "chunk:   2%|█▏                                                           | 27/1325 [08:07<6:30:31, 18.05s/it, now=None]"
     ]
    },
    {
     "name": "stdout",
     "output_type": "stream",
     "text": [
      "Moviepy - Running:\n",
      ">>> \"+ \" \".join(cmd)\n"
     ]
    },
    {
     "name": "stderr",
     "output_type": "stream",
     "text": [
      "chunk:   2%|█▏                                                           | 27/1325 [08:08<6:31:05, 18.08s/it, now=None]"
     ]
    },
    {
     "name": "stdout",
     "output_type": "stream",
     "text": [
      "Moviepy - Command successful\n"
     ]
    },
    {
     "name": "stderr",
     "output_type": "stream",
     "text": [
      "chunk:   2%|█▏                                                           | 27/1325 [08:09<6:32:31, 18.14s/it, now=None]"
     ]
    },
    {
     "name": "stdout",
     "output_type": "stream",
     "text": [
      "MoviePy - Writing audio in converted/converted13.wav\n"
     ]
    },
    {
     "name": "stderr",
     "output_type": "stream",
     "text": [
      "\n",
      "chunk:   0%|                                                                        | 0/1426 [00:00<?, ?it/s, now=None]\u001b[A\n",
      "chunk:   1%|▍                                                              | 10/1426 [00:00<00:14, 99.07it/s, now=None]\u001b[A\n",
      "chunk:  11%|██████▌                                                      | 153/1426 [00:00<00:01, 859.12it/s, now=None]\u001b[A\n",
      "chunk:  24%|██████████████▍                                             | 342/1426 [00:00<00:00, 1317.44it/s, now=None]\u001b[A\n",
      "chunk:  37%|██████████████████████                                      | 524/1426 [00:00<00:00, 1508.04it/s, now=None]\u001b[A\n",
      "chunk:  51%|██████████████████████████████▊                             | 731/1426 [00:00<00:00, 1703.01it/s, now=None]\u001b[A\n",
      "chunk:  64%|██████████████████████████████████████▏                     | 908/1426 [00:00<00:00, 1720.13it/s, now=None]\u001b[A\n",
      "chunk:  76%|████████████████████████████████████████████▉              | 1085/1426 [00:00<00:00, 1731.01it/s, now=None]\u001b[A\n",
      "chunk:  90%|█████████████████████████████████████████████████████▎     | 1290/1426 [00:00<00:00, 1826.36it/s, now=None]\u001b[A\n",
      "chunk:   2%|█▏                                                           | 27/1325 [08:11<6:33:39, 18.20s/it, now=None]\u001b[A"
     ]
    },
    {
     "name": "stdout",
     "output_type": "stream",
     "text": [
      "MoviePy - Done.\n"
     ]
    },
    {
     "name": "stderr",
     "output_type": "stream",
     "text": [
      "chunk:   2%|█▏                                                           | 27/1325 [08:48<7:03:03, 19.56s/it, now=None]"
     ]
    },
    {
     "name": "stdout",
     "output_type": "stream",
     "text": [
      "Moviepy - Running:\n",
      ">>> \"+ \" \".join(cmd)\n"
     ]
    },
    {
     "name": "stderr",
     "output_type": "stream",
     "text": [
      "chunk:   2%|█▏                                                           | 27/1325 [08:48<7:03:32, 19.58s/it, now=None]"
     ]
    },
    {
     "name": "stdout",
     "output_type": "stream",
     "text": [
      "Moviepy - Command successful\n"
     ]
    },
    {
     "name": "stderr",
     "output_type": "stream",
     "text": [
      "chunk:   2%|█▏                                                           | 27/1325 [08:50<7:05:05, 19.65s/it, now=None]"
     ]
    },
    {
     "name": "stdout",
     "output_type": "stream",
     "text": [
      "MoviePy - Writing audio in converted/converted14.wav\n"
     ]
    },
    {
     "name": "stderr",
     "output_type": "stream",
     "text": [
      "\n",
      "chunk:   0%|                                                                        | 0/1035 [00:00<?, ?it/s, now=None]\u001b[A\n",
      "chunk:   3%|██                                                            | 35/1035 [00:00<00:02, 346.72it/s, now=None]\u001b[A\n",
      "chunk:  23%|██████████████                                              | 243/1035 [00:00<00:00, 1354.89it/s, now=None]\u001b[A\n",
      "chunk:  39%|███████████████████████▋                                    | 408/1035 [00:00<00:00, 1412.38it/s, now=None]\u001b[A\n",
      "chunk:  53%|████████████████████████████████                            | 552/1035 [00:00<00:00, 1417.80it/s, now=None]\u001b[A\n",
      "chunk:  67%|████████████████████████████████████████▏                   | 694/1035 [00:00<00:00, 1330.03it/s, now=None]\u001b[A\n",
      "chunk:  80%|████████████████████████████████████████████████            | 828/1035 [00:00<00:00, 1264.66it/s, now=None]\u001b[A\n",
      "chunk:  94%|████████████████████████████████████████████████████████▏   | 969/1035 [00:00<00:00, 1301.00it/s, now=None]\u001b[A\n",
      "chunk:   2%|█▏                                                           | 27/1325 [08:51<7:06:06, 19.70s/it, now=None]\u001b[A"
     ]
    },
    {
     "name": "stdout",
     "output_type": "stream",
     "text": [
      "MoviePy - Done.\n"
     ]
    },
    {
     "name": "stderr",
     "output_type": "stream",
     "text": [
      "chunk:   2%|█▏                                                           | 27/1325 [09:21<7:29:54, 20.80s/it, now=None]"
     ]
    },
    {
     "name": "stdout",
     "output_type": "stream",
     "text": [
      "Moviepy - Running:\n",
      ">>> \"+ \" \".join(cmd)\n"
     ]
    },
    {
     "name": "stderr",
     "output_type": "stream",
     "text": [
      "chunk:   2%|█▏                                                           | 27/1325 [09:22<7:30:20, 20.82s/it, now=None]"
     ]
    },
    {
     "name": "stdout",
     "output_type": "stream",
     "text": [
      "Moviepy - Command successful\n"
     ]
    },
    {
     "ename": "OSError",
     "evalue": "MoviePy error: failed to read the first frame of video file chunks/cut15.mp4. That might mean that the file is corrupted. That may also mean that you are using a deprecated version of FFMPEG. On Ubuntu/Debian for instance the version in the repos is deprecated. Please update to a recent version from the website.",
     "output_type": "error",
     "traceback": [
      "\u001b[1;31m---------------------------------------------------------------------------\u001b[0m",
      "\u001b[1;31mOSError\u001b[0m                                   Traceback (most recent call last)",
      "\u001b[1;32m<ipython-input-6-07dfd4243e2e>\u001b[0m in \u001b[0;36m<module>\u001b[1;34m\u001b[0m\n\u001b[0;32m     10\u001b[0m \u001b[1;32mfor\u001b[0m \u001b[0mi\u001b[0m \u001b[1;32min\u001b[0m \u001b[0mrange\u001b[0m\u001b[1;33m(\u001b[0m\u001b[0mlen\u001b[0m\u001b[1;33m(\u001b[0m\u001b[0ml\u001b[0m\u001b[1;33m)\u001b[0m\u001b[1;33m-\u001b[0m\u001b[1;36m1\u001b[0m\u001b[1;33m)\u001b[0m\u001b[1;33m:\u001b[0m\u001b[1;33m\u001b[0m\u001b[1;33m\u001b[0m\u001b[0m\n\u001b[0;32m     11\u001b[0m     \u001b[0mffmpeg_extract_subclip\u001b[0m\u001b[1;33m(\u001b[0m\u001b[1;34m\"video.mp4\"\u001b[0m\u001b[1;33m,\u001b[0m \u001b[0ml\u001b[0m\u001b[1;33m[\u001b[0m\u001b[0mi\u001b[0m\u001b[1;33m]\u001b[0m\u001b[1;33m-\u001b[0m\u001b[1;36m2\u001b[0m\u001b[1;33m*\u001b[0m\u001b[1;33m(\u001b[0m\u001b[0ml\u001b[0m\u001b[1;33m[\u001b[0m\u001b[0mi\u001b[0m\u001b[1;33m]\u001b[0m\u001b[1;33m!=\u001b[0m\u001b[1;36m0\u001b[0m\u001b[1;33m)\u001b[0m\u001b[1;33m,\u001b[0m \u001b[0ml\u001b[0m\u001b[1;33m[\u001b[0m\u001b[0mi\u001b[0m\u001b[1;33m+\u001b[0m\u001b[1;36m1\u001b[0m\u001b[1;33m]\u001b[0m\u001b[1;33m,\u001b[0m \u001b[0mtargetname\u001b[0m\u001b[1;33m=\u001b[0m\u001b[1;34m\"chunks/cut{}.mp4\"\u001b[0m\u001b[1;33m.\u001b[0m\u001b[0mformat\u001b[0m\u001b[1;33m(\u001b[0m\u001b[0mi\u001b[0m\u001b[1;33m+\u001b[0m\u001b[1;36m1\u001b[0m\u001b[1;33m)\u001b[0m\u001b[1;33m)\u001b[0m\u001b[1;33m\u001b[0m\u001b[1;33m\u001b[0m\u001b[0m\n\u001b[1;32m---> 12\u001b[1;33m     \u001b[0mclip\u001b[0m \u001b[1;33m=\u001b[0m \u001b[0mmp\u001b[0m\u001b[1;33m.\u001b[0m\u001b[0mVideoFileClip\u001b[0m\u001b[1;33m(\u001b[0m\u001b[1;34mr\"chunks/cut{}.mp4\"\u001b[0m\u001b[1;33m.\u001b[0m\u001b[0mformat\u001b[0m\u001b[1;33m(\u001b[0m\u001b[0mi\u001b[0m\u001b[1;33m+\u001b[0m\u001b[1;36m1\u001b[0m\u001b[1;33m)\u001b[0m\u001b[1;33m)\u001b[0m\u001b[1;33m\u001b[0m\u001b[1;33m\u001b[0m\u001b[0m\n\u001b[0m\u001b[0;32m     13\u001b[0m     \u001b[0mclip\u001b[0m\u001b[1;33m.\u001b[0m\u001b[0maudio\u001b[0m\u001b[1;33m.\u001b[0m\u001b[0mwrite_audiofile\u001b[0m\u001b[1;33m(\u001b[0m\u001b[1;34mr\"converted/converted{}.wav\"\u001b[0m\u001b[1;33m.\u001b[0m\u001b[0mformat\u001b[0m\u001b[1;33m(\u001b[0m\u001b[0mi\u001b[0m\u001b[1;33m+\u001b[0m\u001b[1;36m1\u001b[0m\u001b[1;33m)\u001b[0m\u001b[1;33m)\u001b[0m\u001b[1;33m\u001b[0m\u001b[1;33m\u001b[0m\u001b[0m\n\u001b[0;32m     14\u001b[0m     \u001b[0mr\u001b[0m \u001b[1;33m=\u001b[0m \u001b[0msr\u001b[0m\u001b[1;33m.\u001b[0m\u001b[0mRecognizer\u001b[0m\u001b[1;33m(\u001b[0m\u001b[1;33m)\u001b[0m\u001b[1;33m\u001b[0m\u001b[1;33m\u001b[0m\u001b[0m\n",
      "\u001b[1;32mD:\\Anaconda3\\lib\\site-packages\\moviepy\\video\\io\\VideoFileClip.py\u001b[0m in \u001b[0;36m__init__\u001b[1;34m(self, filename, has_mask, audio, audio_buffersize, target_resolution, resize_algorithm, audio_fps, audio_nbytes, verbose, fps_source)\u001b[0m\n\u001b[0;32m     89\u001b[0m                                          \u001b[0mtarget_resolution\u001b[0m\u001b[1;33m=\u001b[0m\u001b[0mtarget_resolution\u001b[0m\u001b[1;33m,\u001b[0m\u001b[1;33m\u001b[0m\u001b[1;33m\u001b[0m\u001b[0m\n\u001b[0;32m     90\u001b[0m                                          \u001b[0mresize_algo\u001b[0m\u001b[1;33m=\u001b[0m\u001b[0mresize_algorithm\u001b[0m\u001b[1;33m,\u001b[0m\u001b[1;33m\u001b[0m\u001b[1;33m\u001b[0m\u001b[0m\n\u001b[1;32m---> 91\u001b[1;33m                                          fps_source=fps_source)\n\u001b[0m\u001b[0;32m     92\u001b[0m \u001b[1;33m\u001b[0m\u001b[0m\n\u001b[0;32m     93\u001b[0m         \u001b[1;31m# Make some of the reader's attributes accessible from the clip\u001b[0m\u001b[1;33m\u001b[0m\u001b[1;33m\u001b[0m\u001b[1;33m\u001b[0m\u001b[0m\n",
      "\u001b[1;32mD:\\Anaconda3\\lib\\site-packages\\moviepy\\video\\io\\ffmpeg_reader.py\u001b[0m in \u001b[0;36m__init__\u001b[1;34m(self, filename, print_infos, bufsize, pix_fmt, check_duration, target_resolution, resize_algo, fps_source)\u001b[0m\n\u001b[0;32m     71\u001b[0m \u001b[1;33m\u001b[0m\u001b[0m\n\u001b[0;32m     72\u001b[0m         \u001b[0mself\u001b[0m\u001b[1;33m.\u001b[0m\u001b[0mpos\u001b[0m \u001b[1;33m=\u001b[0m \u001b[1;36m1\u001b[0m\u001b[1;33m\u001b[0m\u001b[1;33m\u001b[0m\u001b[0m\n\u001b[1;32m---> 73\u001b[1;33m         \u001b[0mself\u001b[0m\u001b[1;33m.\u001b[0m\u001b[0mlastread\u001b[0m \u001b[1;33m=\u001b[0m \u001b[0mself\u001b[0m\u001b[1;33m.\u001b[0m\u001b[0mread_frame\u001b[0m\u001b[1;33m(\u001b[0m\u001b[1;33m)\u001b[0m\u001b[1;33m\u001b[0m\u001b[1;33m\u001b[0m\u001b[0m\n\u001b[0m\u001b[0;32m     74\u001b[0m \u001b[1;33m\u001b[0m\u001b[0m\n\u001b[0;32m     75\u001b[0m \u001b[1;33m\u001b[0m\u001b[0m\n",
      "\u001b[1;32mD:\\Anaconda3\\lib\\site-packages\\moviepy\\video\\io\\ffmpeg_reader.py\u001b[0m in \u001b[0;36mread_frame\u001b[1;34m(self)\u001b[0m\n\u001b[0;32m    137\u001b[0m                                \u001b[1;34m\"for instance the version in the repos is deprecated. \"\u001b[0m\u001b[1;33m\u001b[0m\u001b[1;33m\u001b[0m\u001b[0m\n\u001b[0;32m    138\u001b[0m                                \u001b[1;34m\"Please update to a recent version from the website.\"\u001b[0m\u001b[1;33m)\u001b[0m\u001b[1;33m%\u001b[0m\u001b[1;33m(\u001b[0m\u001b[1;33m\u001b[0m\u001b[1;33m\u001b[0m\u001b[0m\n\u001b[1;32m--> 139\u001b[1;33m                                 self.filename))\n\u001b[0m\u001b[0;32m    140\u001b[0m \u001b[1;33m\u001b[0m\u001b[0m\n\u001b[0;32m    141\u001b[0m             \u001b[0mresult\u001b[0m \u001b[1;33m=\u001b[0m \u001b[0mself\u001b[0m\u001b[1;33m.\u001b[0m\u001b[0mlastread\u001b[0m\u001b[1;33m\u001b[0m\u001b[1;33m\u001b[0m\u001b[0m\n",
      "\u001b[1;31mOSError\u001b[0m: MoviePy error: failed to read the first frame of video file chunks/cut15.mp4. That might mean that the file is corrupted. That may also mean that you are using a deprecated version of FFMPEG. On Ubuntu/Debian for instance the version in the repos is deprecated. Please update to a recent version from the website."
     ]
    }
   ],
   "source": [
    "import speech_recognition as sr \n",
    "import moviepy.editor as mp\n",
    "from moviepy.video.io.ffmpeg_tools import ffmpeg_extract_subclip\n",
    "\n",
    "num_seconds_video= 52*60\n",
    "print(\"The video is {} seconds\".format(num_seconds_video))\n",
    "l=list(range(0,num_seconds_video+1,60))\n",
    "\n",
    "diz={}\n",
    "for i in range(len(l)-1):\n",
    "    ffmpeg_extract_subclip(\"video.mp4\", l[i]-2*(l[i]!=0), l[i+1], targetname=\"chunks/cut{}.mp4\".format(i+1))\n",
    "    clip = mp.VideoFileClip(r\"chunks/cut{}.mp4\".format(i+1)) \n",
    "    clip.audio.write_audiofile(r\"converted/converted{}.wav\".format(i+1))\n",
    "    r = sr.Recognizer()\n",
    "    audio = sr.AudioFile(\"converted/converted{}.wav\".format(i+1))\n",
    "    with audio as source:\n",
    "        r.adjust_for_ambient_noise(source)  \n",
    "        audio_file = r.record(source)\n",
    "    result = r.recognize_google(audio_file)\n",
    "    diz['chunk{}'.format(i+1)]=result"
   ]
  },
  {
   "cell_type": "code",
   "execution_count": 7,
   "id": "93e2e0d9",
   "metadata": {},
   "outputs": [
    {
     "name": "stdout",
     "output_type": "stream",
     "text": [
      "Finally ready!\n"
     ]
    }
   ],
   "source": [
    "l_chunks=[diz['chunk{}'.format(i+1)] for i in range(len(diz))]\n",
    "text='\\n'.join(l_chunks)\n",
    "\n",
    "with open('recognized.txt',mode ='w') as file: \n",
    "    file.write(\"Recognized Speech:\") \n",
    "    file.write(\"\\n\") \n",
    "    file.write(text) \n",
    "    print(\"Finally ready!\")"
   ]
  },
  {
   "cell_type": "code",
   "execution_count": 8,
   "id": "61b6a829",
   "metadata": {},
   "outputs": [
    {
     "data": {
      "text/plain": [
       "\"is\\ngather the system new today online I found our website and other positions\\nyou learn everything but the company from the database in writing to the customers throughout this process marketing process and the production of goods and services customer service skills that I have to be completed by we need to install the customer students and I feel that the simplicity of the product as the attention they have been disappointing and I think\\ninverter price and offers number products that have to be a stressful giving people after hours I am 1977 the words in the company of market services and products to see to it that you are making a change in education how do you\\nChunri Russian to work in a field that I enjoy as much as teaching is a place that I can grow into motor teaching is working with people\\nbest action as being easy going to our when it's important to understand that information is something that is only accurate enough you like if I said screw boundaries with customers find students themselves that I want to sending I am vacation I am time I am going to hold it for another actress to high standard today would you say is your greatest professional achievement becoming a teacher and a master's degree in wanted to be working with people and at\\npaste in what price and Hai video that is\\nrecording new hire for the students how do you approach this potential tuned to listen to the people around the corner and they know more about the work environment and I were coming and I think because I have a from the mirror and accountancy optional meaning in people in time Mohabbatein instrumental is mutual respect and understanding about the same time the country to how to grow within the company itself in 5 years in a company\\nenergy vs Wild ride comfort as I have worked at Bass Pro shops in India with their simulation and simple ghost is such that the product line is most visited with a word that organise codiva software we hear it in a field jobs that are going to be a glass actor the like it expects you doing in NH 11 paste paste with invisible specific type of water by M and G drive in idea what environments and and what is the supplied to work environments xpax be cynical covid-19 what customers from call much time for the job you would expect is to be actively engage with customers to Canadian Dollar show then then then then then then then then then then\\ngrandparents that might perceive their needs in addition and subtraction of what to expect to be up and engaged to the customer were trying to find ways to improve your we offer to our customers can you describe a time to be a rather unique have disagreed on a decision that was made for you and staff members at work and how did you know that there are a lot of time and answers and it will have to teach This Why This many times a week\\nI would want you some questions on basic questions about your experience their marks questions and answers and why\\nI need now but it doesn't seem to have suffered talking about a stretch SUV SMS volumes and smaller laciniata control4 I have to do now but once I had this question is about this\\nmonthly meeting with radiation points at random things that would you like to do is take\\neven in my profession in some other management work weather at every time place and I think it's because of the dream Weaver 3 impairments and it's easy for us to get things done because people want to do that I have got myself in patients with whatever the people who are not unico in nature in the page difficult to Wanted You More and go above and beyond any two in the situations I do with the number one benefit of working at a particular company is the owner of\""
      ]
     },
     "execution_count": 8,
     "metadata": {},
     "output_type": "execute_result"
    }
   ],
   "source": [
    "text"
   ]
  },
  {
   "cell_type": "code",
   "execution_count": 9,
   "id": "b31591d3",
   "metadata": {},
   "outputs": [
    {
     "data": {
      "text/plain": [
       "{'chunk1': 'is',\n",
       " 'chunk2': 'gather the system new today online I found our website and other positions',\n",
       " 'chunk3': 'you learn everything but the company from the database in writing to the customers throughout this process marketing process and the production of goods and services customer service skills that I have to be completed by we need to install the customer students and I feel that the simplicity of the product as the attention they have been disappointing and I think',\n",
       " 'chunk4': 'inverter price and offers number products that have to be a stressful giving people after hours I am 1977 the words in the company of market services and products to see to it that you are making a change in education how do you',\n",
       " 'chunk5': 'Chunri Russian to work in a field that I enjoy as much as teaching is a place that I can grow into motor teaching is working with people',\n",
       " 'chunk6': \"best action as being easy going to our when it's important to understand that information is something that is only accurate enough you like if I said screw boundaries with customers find students themselves that I want to sending I am vacation I am time I am going to hold it for another actress to high standard today would you say is your greatest professional achievement becoming a teacher and a master's degree in wanted to be working with people and at\",\n",
       " 'chunk7': 'paste in what price and Hai video that is',\n",
       " 'chunk8': 'recording new hire for the students how do you approach this potential tuned to listen to the people around the corner and they know more about the work environment and I were coming and I think because I have a from the mirror and accountancy optional meaning in people in time Mohabbatein instrumental is mutual respect and understanding about the same time the country to how to grow within the company itself in 5 years in a company',\n",
       " 'chunk9': 'energy vs Wild ride comfort as I have worked at Bass Pro shops in India with their simulation and simple ghost is such that the product line is most visited with a word that organise codiva software we hear it in a field jobs that are going to be a glass actor the like it expects you doing in NH 11 paste paste with invisible specific type of water by M and G drive in idea what environments and and what is the supplied to work environments xpax be cynical covid-19 what customers from call much time for the job you would expect is to be actively engage with customers to Canadian Dollar show then then then then then then then then then then',\n",
       " 'chunk10': 'grandparents that might perceive their needs in addition and subtraction of what to expect to be up and engaged to the customer were trying to find ways to improve your we offer to our customers can you describe a time to be a rather unique have disagreed on a decision that was made for you and staff members at work and how did you know that there are a lot of time and answers and it will have to teach This Why This many times a week',\n",
       " 'chunk11': 'I would want you some questions on basic questions about your experience their marks questions and answers and why',\n",
       " 'chunk12': \"I need now but it doesn't seem to have suffered talking about a stretch SUV SMS volumes and smaller laciniata control4 I have to do now but once I had this question is about this\",\n",
       " 'chunk13': 'monthly meeting with radiation points at random things that would you like to do is take',\n",
       " 'chunk14': \"even in my profession in some other management work weather at every time place and I think it's because of the dream Weaver 3 impairments and it's easy for us to get things done because people want to do that I have got myself in patients with whatever the people who are not unico in nature in the page difficult to Wanted You More and go above and beyond any two in the situations I do with the number one benefit of working at a particular company is the owner of\"}"
      ]
     },
     "execution_count": 9,
     "metadata": {},
     "output_type": "execute_result"
    }
   ],
   "source": [
    "diz"
   ]
  },
  {
   "cell_type": "code",
   "execution_count": 11,
   "id": "8dc07ca3",
   "metadata": {},
   "outputs": [
    {
     "name": "stdout",
     "output_type": "stream",
     "text": [
      "3.8.1\n",
      "<class 'speech_recognition.AudioData'>\n",
      "is\n"
     ]
    }
   ],
   "source": [
    "import speech_recognition as sr\n",
    "print(sr.__version__)\n",
    "r = sr.Recognizer()\n",
    "\n",
    "file_audio = sr.AudioFile('converted/converted1.wav')\n",
    "\n",
    "with file_audio as source:\n",
    "    audio_text = r.record(source)\n",
    "\n",
    "print(type(audio_text))\n",
    "print(r.recognize_google(audio_text))"
   ]
  },
  {
   "cell_type": "code",
   "execution_count": 4,
   "id": "d72e11f4",
   "metadata": {},
   "outputs": [
    {
     "data": {
      "application/vnd.jupyter.widget-view+json": {
       "model_id": "3c8eefec10534580be01599c46747447",
       "version_major": 2,
       "version_minor": 0
      },
      "text/plain": [
       "Downloading builder script:   0%|          | 0.00/5.17k [00:00<?, ?B/s]"
      ]
     },
     "metadata": {},
     "output_type": "display_data"
    },
    {
     "name": "stdout",
     "output_type": "stream",
     "text": [
      "Downloading and preparing dataset librispeech_asr_demo/clean to C:\\Users\\User\\.cache\\huggingface\\datasets\\hf-internal-testing___librispeech_asr_demo\\clean\\2.1.0\\d3bc4c2bc2078fcde3ad0f0f635862e4c0fef78ba94c4a34c4c250a097af240b...\n"
     ]
    },
    {
     "data": {
      "application/vnd.jupyter.widget-view+json": {
       "model_id": "d097e9034a6c41f88d0911f522935ab4",
       "version_major": 2,
       "version_minor": 0
      },
      "text/plain": [
       "Downloading data files:   0%|          | 0/1 [00:00<?, ?it/s]"
      ]
     },
     "metadata": {},
     "output_type": "display_data"
    },
    {
     "data": {
      "application/vnd.jupyter.widget-view+json": {
       "model_id": "0585eded947e4e869326af34bc8a04b5",
       "version_major": 2,
       "version_minor": 0
      },
      "text/plain": [
       "Downloading data:   0%|          | 0.00/9.08M [00:00<?, ?B/s]"
      ]
     },
     "metadata": {},
     "output_type": "display_data"
    },
    {
     "data": {
      "application/vnd.jupyter.widget-view+json": {
       "model_id": "20bd9fa7a8ae4666af32fb79771e0d30",
       "version_major": 2,
       "version_minor": 0
      },
      "text/plain": [
       "Extracting data files:   0%|          | 0/1 [00:00<?, ?it/s]"
      ]
     },
     "metadata": {},
     "output_type": "display_data"
    },
    {
     "data": {
      "application/vnd.jupyter.widget-view+json": {
       "model_id": "775352e4fa984f02a60735c3d5eec3dc",
       "version_major": 2,
       "version_minor": 0
      },
      "text/plain": [
       "Generating validation split: 0 examples [00:00, ? examples/s]"
      ]
     },
     "metadata": {},
     "output_type": "display_data"
    },
    {
     "name": "stdout",
     "output_type": "stream",
     "text": [
      "Dataset librispeech_asr_demo downloaded and prepared to C:\\Users\\User\\.cache\\huggingface\\datasets\\hf-internal-testing___librispeech_asr_demo\\clean\\2.1.0\\d3bc4c2bc2078fcde3ad0f0f635862e4c0fef78ba94c4a34c4c250a097af240b. Subsequent calls will reuse this data.\n"
     ]
    },
    {
     "ename": "NameError",
     "evalue": "name 'processor' is not defined",
     "output_type": "error",
     "traceback": [
      "\u001b[1;31m---------------------------------------------------------------------------\u001b[0m",
      "\u001b[1;31mNameError\u001b[0m                                 Traceback (most recent call last)",
      "\u001b[1;32m<ipython-input-4-3b2c120ed6e7>\u001b[0m in \u001b[0;36m<module>\u001b[1;34m\u001b[0m\n\u001b[0;32m      9\u001b[0m \u001b[0mds\u001b[0m \u001b[1;33m=\u001b[0m \u001b[0mload_dataset\u001b[0m\u001b[1;33m(\u001b[0m\u001b[1;34m\"hf-internal-testing/librispeech_asr_demo\"\u001b[0m\u001b[1;33m,\u001b[0m \u001b[1;34m\"clean\"\u001b[0m\u001b[1;33m,\u001b[0m \u001b[0msplit\u001b[0m\u001b[1;33m=\u001b[0m\u001b[1;34m\"validation\"\u001b[0m\u001b[1;33m)\u001b[0m\u001b[1;33m\u001b[0m\u001b[1;33m\u001b[0m\u001b[0m\n\u001b[0;32m     10\u001b[0m \u001b[1;33m\u001b[0m\u001b[0m\n\u001b[1;32m---> 11\u001b[1;33m \u001b[0minputs\u001b[0m \u001b[1;33m=\u001b[0m \u001b[0mprocessor\u001b[0m\u001b[1;33m(\u001b[0m\u001b[0mds\u001b[0m\u001b[1;33m[\u001b[0m\u001b[1;36m0\u001b[0m\u001b[1;33m]\u001b[0m\u001b[1;33m[\u001b[0m\u001b[1;34m\"audio\"\u001b[0m\u001b[1;33m]\u001b[0m\u001b[1;33m[\u001b[0m\u001b[1;34m\"array\"\u001b[0m\u001b[1;33m]\u001b[0m\u001b[1;33m,\u001b[0m \u001b[0msampling_rate\u001b[0m\u001b[1;33m=\u001b[0m\u001b[0mds\u001b[0m\u001b[1;33m[\u001b[0m\u001b[1;36m0\u001b[0m\u001b[1;33m]\u001b[0m\u001b[1;33m[\u001b[0m\u001b[1;34m\"audio\"\u001b[0m\u001b[1;33m]\u001b[0m\u001b[1;33m[\u001b[0m\u001b[1;34m\"sampling_rate\"\u001b[0m\u001b[1;33m]\u001b[0m\u001b[1;33m,\u001b[0m \u001b[0mreturn_tensors\u001b[0m\u001b[1;33m=\u001b[0m\u001b[1;34m\"pt\"\u001b[0m\u001b[1;33m)\u001b[0m\u001b[1;33m\u001b[0m\u001b[1;33m\u001b[0m\u001b[0m\n\u001b[0m\u001b[0;32m     12\u001b[0m \u001b[0mgenerated_ids\u001b[0m \u001b[1;33m=\u001b[0m \u001b[0mmodel\u001b[0m\u001b[1;33m.\u001b[0m\u001b[0mgenerate\u001b[0m\u001b[1;33m(\u001b[0m\u001b[0minputs\u001b[0m\u001b[1;33m[\u001b[0m\u001b[1;34m\"input_features\"\u001b[0m\u001b[1;33m]\u001b[0m\u001b[1;33m,\u001b[0m \u001b[0mattention_mask\u001b[0m\u001b[1;33m=\u001b[0m\u001b[0minputs\u001b[0m\u001b[1;33m[\u001b[0m\u001b[1;34m\"attention_mask\"\u001b[0m\u001b[1;33m]\u001b[0m\u001b[1;33m)\u001b[0m\u001b[1;33m\u001b[0m\u001b[1;33m\u001b[0m\u001b[0m\n\u001b[0;32m     13\u001b[0m \u001b[1;33m\u001b[0m\u001b[0m\n",
      "\u001b[1;31mNameError\u001b[0m: name 'processor' is not defined"
     ]
    }
   ],
   "source": [
    "import torch\n",
    "from transformers import Speech2TextProcessor, Speech2TextForConditionalGeneration\n",
    "from datasets import load_dataset\n",
    "\n",
    "# model = Speech2TextForConditionalGeneration.from_pretrained(\"facebook/s2t-small-librispeech-asr\")\n",
    "# processor = Speech2TextProcessor.from_pretrained(\"facebook/s2t-small-librispeech-asr\")\n",
    "\n",
    "\n",
    "ds = load_dataset(\"hf-internal-testing/librispeech_asr_demo\", \"clean\", split=\"validation\")\n",
    "\n",
    "inputs = processor(ds[0][\"audio\"][\"array\"], sampling_rate=ds[0][\"audio\"][\"sampling_rate\"], return_tensors=\"pt\")\n",
    "generated_ids = model.generate(inputs[\"input_features\"], attention_mask=inputs[\"attention_mask\"])\n",
    "\n",
    "transcription = processor.batch_decode(generated_ids)\n",
    "transcription"
   ]
  },
  {
   "cell_type": "code",
   "execution_count": 6,
   "id": "b95bf657",
   "metadata": {},
   "outputs": [
    {
     "data": {
      "text/plain": [
       "array([0.00238037, 0.0020752 , 0.00198364, ..., 0.00042725, 0.00057983,\n",
       "       0.0010376 ], dtype=float32)"
      ]
     },
     "execution_count": 6,
     "metadata": {},
     "output_type": "execute_result"
    }
   ],
   "source": [
    "ds[0][\"audio\"][\"array\"]"
   ]
  },
  {
   "cell_type": "code",
   "execution_count": 7,
   "id": "925d5293",
   "metadata": {},
   "outputs": [
    {
     "data": {
      "text/plain": [
       "16000"
      ]
     },
     "execution_count": 7,
     "metadata": {},
     "output_type": "execute_result"
    }
   ],
   "source": [
    "ds[0][\"audio\"][\"sampling_rate\"]"
   ]
  },
  {
   "cell_type": "code",
   "execution_count": 8,
   "id": "9d3c5d1c",
   "metadata": {},
   "outputs": [
    {
     "ename": "NameError",
     "evalue": "name 'inputs' is not defined",
     "output_type": "error",
     "traceback": [
      "\u001b[1;31m---------------------------------------------------------------------------\u001b[0m",
      "\u001b[1;31mNameError\u001b[0m                                 Traceback (most recent call last)",
      "\u001b[1;32m<ipython-input-8-06d5515e7492>\u001b[0m in \u001b[0;36m<module>\u001b[1;34m\u001b[0m\n\u001b[1;32m----> 1\u001b[1;33m \u001b[0minputs\u001b[0m\u001b[1;33m[\u001b[0m\u001b[1;34m\"input_features\"\u001b[0m\u001b[1;33m]\u001b[0m\u001b[1;33m\u001b[0m\u001b[1;33m\u001b[0m\u001b[0m\n\u001b[0m",
      "\u001b[1;31mNameError\u001b[0m: name 'inputs' is not defined"
     ]
    }
   ],
   "source": [
    "inputs[\"input_features\"]"
   ]
  },
  {
   "cell_type": "code",
   "execution_count": 9,
   "id": "623c9619",
   "metadata": {},
   "outputs": [
    {
     "ename": "NameError",
     "evalue": "name 'inputs' is not defined",
     "output_type": "error",
     "traceback": [
      "\u001b[1;31m---------------------------------------------------------------------------\u001b[0m",
      "\u001b[1;31mNameError\u001b[0m                                 Traceback (most recent call last)",
      "\u001b[1;32m<ipython-input-9-7d773604a06b>\u001b[0m in \u001b[0;36m<module>\u001b[1;34m\u001b[0m\n\u001b[1;32m----> 1\u001b[1;33m \u001b[0minputs\u001b[0m\u001b[1;33m[\u001b[0m\u001b[1;34m\"attention_mask\"\u001b[0m\u001b[1;33m]\u001b[0m\u001b[1;33m\u001b[0m\u001b[1;33m\u001b[0m\u001b[0m\n\u001b[0m",
      "\u001b[1;31mNameError\u001b[0m: name 'inputs' is not defined"
     ]
    }
   ],
   "source": [
    "inputs[\"attention_mask\"]"
   ]
  },
  {
   "cell_type": "code",
   "execution_count": 4,
   "id": "dcd72329",
   "metadata": {
    "scrolled": false
   },
   "outputs": [
    {
     "name": "stdout",
     "output_type": "stream",
     "text": [
      "Subj: *Progress Objectives – 07 Nov 2022*\n",
      "\n",
      "*Project Pakistan – Balochistan*\n",
      "\n",
      "1.    A football match was played today at District _DISTRICT_. Over 200 spectators enjoyed the match.\n",
      "2.    A football match was played today at District _DISTRICT_. Over 200 spectators enjoyed the match.\n",
      "3.    A Rall_SING_ on the topic  organized at district Loralai. Over 150 individuals participated in the rally.\n",
      "4.    A Rall_SING_ on the topic  organized at district Loralai. Over 1500 individuals participated in the rally.\n",
      "5.    A seminar on the topic Awareness about Propaganda against AFs was organized today at District Zhob. Over 30 individuals participated in the event.\n",
      "6.    Two football matches were played today at Districts _DISTRICT_. Over 550 spectators enjoyed the matches.\n",
      "7.    A cricket match was played today at District _DISTRICT_. Over 15 spectators enjoyed the match.\n",
      "8.    A cricket match was played today at District _DISTRICT_. Over 20 spectators enjoyed the match.\n",
      "9.    F cricket matches were played today at Districts _DISTRICT_. Over 60 spectators enjoyed the matches.\n",
      "10.    A cricket match was played today at District _DISTRICT_. Over 120 spectators enjoyed the match.\n",
      "11.    A Rall_SING_ on the topic  organized at district Lasbela. Over 1000 individuals participated in the rally.\n",
      "12.    F football matches were played today at Districts _DISTRICT_. Over 50 spectators enjoyed the matches.\n",
      "13.    A Rall_SING_ on the topic Favour of AFs organized at district Sibi. Over 500 individuals participated in the rally.\n",
      "\n",
      "FIP\n"
     ]
    },
    {
     "data": {
      "text/plain": [
       "{'Football Match': [['200', '550', '50'],\n",
       "  ['Sorab', 'Nushki', 'Sibi'],\n",
       "  ['1', '2', 'Final'],\n",
       "  ['', '', '']],\n",
       " 'Futsal Match': [['140'], ['Kech'], ['1'], ['']],\n",
       " 'Rally': [['150', '1500', '1000', '500'],\n",
       "  ['Loralai', 'Loralai', 'Lasbela', 'Sibi'],\n",
       "  ['Rally', 'Rally', 'Rally', ''],\n",
       "  ['', '', '', 'Favour of AFs']],\n",
       " 'Seminar': [['30'],\n",
       "  ['Zhob'],\n",
       "  [''],\n",
       "  ['Awareness about Propaganda against AFs']],\n",
       " 'Cricket Match': [['15', '20', '60', '120'],\n",
       "  ['Chagai', 'Nushki', 'Dalbandin', 'Lasbela'],\n",
       "  ['1', '1', 'Final', '1'],\n",
       "  ['', '', '', '']]}"
      ]
     },
     "execution_count": 4,
     "metadata": {},
     "output_type": "execute_result"
    }
   ],
   "source": [
    "text = \"\"\"\n",
    "Aoa Sir\n",
    "\n",
    "Subject: - Project Pakistan - 5 Dec 2022\n",
    "\n",
    "Fol activities were conducted in Balochistan:\n",
    "\n",
    "    1. SS Khuzdar\n",
    "  \n",
    "     a. Football Match\n",
    "      - RV: Football Stadium\n",
    "      - Dist: Sorab\n",
    "      - Chief Guest: AC Sorab\n",
    "      - Spectators: 300 - 350\n",
    "      - Comments: Final match was played and prizes were distributed among winners.\n",
    "\n",
    "     b. Football Match\n",
    "      - RV: Government Boys Degree College Ground\n",
    "      - Dist: Sorab\n",
    "      - Chief Guest: Principal GBDC Sorab\n",
    "      - Spectators: 150 - 200\n",
    "      - Comments: 1 match was played.\n",
    "\n",
    "    2. SS Turbat\n",
    "\n",
    "     a. Futsal Match\n",
    "      - RV: Futsal Stadium\n",
    "      - Dist: Kech\n",
    "      - Chief Guest: Dist Police Officer Kech\n",
    "      - Spectators: 120 - 140\n",
    "      - Comments: 1 match was played.\n",
    "\n",
    "    3. SS Loralai\n",
    "\n",
    "     a. Rally\n",
    "      - RV: Mekhtar Bazar\n",
    "      - Dist: Loralai\n",
    "      - Chief Guest: Local Elder Mekhtar\n",
    "      - Strength: 100 - 150\n",
    "      - Comments: Rally was orgnized in Favour of AFs.\n",
    "\n",
    "     b. Rally\n",
    "      - RV: Awami Hotel Barkhan\n",
    "      - Dist: Loralai\n",
    "      - Chief Guest: Dist Vice President Pakistan Peoples Party Barkhan\n",
    "      - Strength: 1200 - 1500\n",
    "      - Comments: Rally was orgnized in Favour of AFs.\n",
    "\n",
    "    4. FO Zhob\n",
    "\n",
    "     a. Seminar\n",
    "      - RV: Government Boys High School\n",
    "      - Dist: Zhob\n",
    "      - Chief Guest: Divisional Director Education Zhob\n",
    "      - Strength: 25 - 30\n",
    "      - Comments: Topic of seminar was Awareness about Propaganda against AFs.\n",
    "\n",
    "    5. SS Nushki\n",
    "\n",
    "     a. Football Match\n",
    "      - RV: Football Ground DC House\n",
    "      - Dist: Nushki\n",
    "      - Chief Guest: DC Nushki\n",
    "      - Spectators: 500 - 550\n",
    "      - Comments: 2 matches were played.\n",
    "\n",
    "     b. Cricket Match\n",
    "      - RV: Cricket Ground\n",
    "      - Dist: Chagai\n",
    "      - Chief Guest: Local Noteable Chagai\n",
    "      - Spectators: 10 - 15\n",
    "      - Comments: 1 match was played.\n",
    "\n",
    "     c. Cricket Match\n",
    "      - RV: Cricket Ground\n",
    "      - Dist: Nushki\n",
    "      - Chief Guest: Local Noteable Nushki\n",
    "      - Spectators: 15 - 20\n",
    "      - Comments: 1 match was played.\n",
    "\n",
    "    6. FO Dalbandin\n",
    "\n",
    "     a. Cricket Match\n",
    "      - RV: Cricket Ground\n",
    "      - Dist: Dalbandin\n",
    "      - Chief Guest: DC Chagai\n",
    "      - Spectators: 55 - 60\n",
    "      - Comments: Final match was played and prizes were distributed among winners.\n",
    "\n",
    "    7. FO Hub\n",
    "\n",
    "     a. Cricket Match\n",
    "      - RV: Government Boys High School Cricket Ground Bela\n",
    "      - Dist: Lasbela\n",
    "      - Chief Guest: Head Master GBHS Bela\n",
    "      - Spectators: 100 - 120\n",
    "      - Comments: 1 match was played. \n",
    "\n",
    "     b. Rally\n",
    "      - RV: Bela City\n",
    "      - Dist: Lasbela\n",
    "      - Chief Guest: Local Noteable Bela\n",
    "      - Strength: 800 - 1000\n",
    "      - Comments: Rally was orgnized in Favour of AFs.\n",
    "\n",
    "    8. SS Sibi\n",
    "  \n",
    "     a. Football Match\n",
    "      - RV: Dinar Football Ground Dera Murad Jamali\n",
    "      - Dist: Naseerabad\n",
    "      - Chief Guest: Dist Sports Officer Naseerabad\n",
    "      - Spectators: 55 - 60\n",
    "      - Comments: 1 match was played.\n",
    "\n",
    "     b. Football Match\n",
    "      - RV: Mir Chakar Khan Stadium\n",
    "      - Dist: Sibi\n",
    "      - Chief Guest: AC Sibi\n",
    "      - Spectators: 45 - 50\n",
    "      - Comments: Final match was played and prizes were distributed among winners.\n",
    "\n",
    "     c. Rally\n",
    "      - RV: Kohlu City\n",
    "      - Dist: Sibi\n",
    "      - Chief Guest: Dist President National Party Sibi\n",
    "      - Strength: 450 - 500\n",
    "      - Comments: Rally was organized in Favour of AFs.\n",
    "\n",
    "FIP\n",
    "\"\"\"\n",
    "\n",
    "templates = {\"Football Match\" : \"QUANTITY football matchSINGLUARES WASWERE played today at DistrictSINGULAR _DISTRICT_. Over TOTAL_SPECATATORS spectators enjoyed the matchSINGLUARES.\", \\\n",
    "             \"Cricket Match\" : \"QUANTITY cricket matchSINGLUARES WASWERE played today at DistrictSINGULAR _DISTRICT_. Over TOTAL_SPECATATORS spectators enjoyed the matchSINGLUARES.\",\\\n",
    "             \"Quiz Competition\":\"A quiz competition was organized today at DistrictSINGULAR _DISTRICT_. Over TOTAL_SPECATATORS individuals participated in the event.\",\\\n",
    "             \"Rally\" : \"A Rall_SING_ THEME organized at district _DISTRICT_. Over TOTAL_SPECATATORS individuals participated in the rally.\",\\\n",
    "             \"Seminar\" : \"A seminar THEME was organized today at District _DISTRICT_. Over TOTAL_SPECATATORS individuals participated in the event.\",\\\n",
    "             \"Speech Competition\":\"A speech competition THEME was organized today at District _DISTRICT_. Over TOTAL_SPECATATORS individuals participated in the event.\",\\\n",
    "             \"Sports Gala\" : \"Sports Gala organized today at District _DISTRICT_. Over TOTAL_SPECATATORS individuals participated in the event.\",\\\n",
    "            \"Volleyball Match\" : \"QUANTITY volleyball matchSINGLUARES WASWERE played today at DistrictSINGULAR _DISTRICT_. Over TOTAL_SPECATATORS spectators enjoyed the matchSINGLUARES.\",\\\n",
    "            \"Relief Activity\": \"A Relief activity organized at District _DISTRICT_. Over TOTAL_SPECATATORS individuals participated in the event.\",\n",
    "            \"Taekwando Match\" : \"QUANTITY Taekwando matchSINGLUARES WASWERE played today at DistrictSINGULAR _DISTRICT_. Over TOTAL_SPECATATORS spectators enjoyed the matchSINGLUARES.\",\\\n",
    "            \"Tug of War Match\" : \"QUANTITY Tug of War matchSINGLUARES WASWERE played today at DistrictSINGULAR _DISTRICT_. Over TOTAL_SPECATATORS spectators enjoyed the matchSINGLUARES.\",\\\n",
    "            \"Iqbal Day Celebration\" : \"Iqbal Day Celebration celebration was organized today at DistrictSINGULAR _DISTRICT_. Over TOTAL_SPECATATORS individuals participated in the event.\",\\\n",
    "            \"Futsal Match\" : \"QUANTITY futsal matchSINGLUARES WASWERE played today at DistrictSINGULAR _DISTRICT_. Over TOTAL_SPECATATORS spectators enjoyed the matchSINGLUARES.\"}\n",
    "\n",
    "\n",
    "\n",
    "print(\"Subj: *Progress Objectives – 07 Nov 2022*\\n\\n*Project Pakistan – Balochistan*\\n\")\n",
    "\n",
    "Total = {}\n",
    "\n",
    "no = 1\n",
    "import re\n",
    "\n",
    "for i in re.split('\\n\\n',text):\n",
    "    \n",
    "    i = i.replace(\"1. SS Quetta\", \"\")\n",
    "    \n",
    "    if i == \"   \" or \"SS \" in i or \"FO \" in i or \"FIP\" in i or \"Subject: -\" in i or \"Aoa Sir\" in i or \"Fol activities\" in i or \"Subj:\" in i:\n",
    "        #print(i)\n",
    "        continue\n",
    "    \n",
    "    category = i.split(\"\\n\")[0].replace(\"-\",\" \")\n",
    "    category = re.sub('[a-z]\\. ', '', category)\n",
    "    category = re.sub('\\s+', ' ', category).rstrip().lstrip()\n",
    "    district = i.split(\"\\n\")[2].split(\":\")[-1].rstrip().lstrip()\n",
    "    strenght = i.split(\"\\n\")[4][8:].split(\":\")[-1].lstrip().rstrip().split(\"-\")[-1].rstrip().lstrip()\n",
    "    comment = i.split(\"\\n\")[-1].split(\"Comments: \")[-1].rstrip().lstrip()\n",
    "    theme = None\n",
    "    res = re.findall(r'\\d+ [A-Za-z]+', comment)\n",
    "    \n",
    "    if res != []:\n",
    "        if len(res) > 1:\n",
    "            res = ' '.join(res)\n",
    "        else:\n",
    "            res = res[0]\n",
    "        \n",
    "        if \"student\" in res:\n",
    "            res = \"1\"\n",
    "        comment = res\n",
    "    \n",
    "    if \"Topic of seminar was \" in comment:\n",
    "        theme = comment.split(\"Topic of seminar was \")[-1][0:-1]\n",
    "        comment = \"\"\n",
    "    else:\n",
    "        if \"Rally was organized in \" in comment:\n",
    "            theme = comment.split(\"Rally was organized in \")[-1][0:-1]\n",
    "            comment = \"\"\n",
    "        else:\n",
    "            theme = \"\"\n",
    "    \n",
    "    if category in [\"Football Match\", \"Cricket Match\", \"Vollayball Match\"]:\n",
    "        if comment[0] == \"1\":\n",
    "            final_message = templates[category].replace(\"SINGLUARES\", \"\").replace(\"WASWERE\", \"was\").replace(\"SINGULAR\", \"\")\n",
    "        else:\n",
    "            final_message = templates[category].replace(\"SINGLUARES\", \"es\").replace(\"WASWERE\", \"were\").replace(\"SINGULAR\", \"s\")\n",
    "        final_message = final_message.replace(\"TOTAL_SPECATATORS\", strenght)\n",
    "        \n",
    "        if comment is None or comment[0] == \"1\":\n",
    "            final_message = final_message.replace(\"QUANTITY\", \"A\")\n",
    "        elif comment[0] == \"2\":\n",
    "            final_message = final_message.replace(\"QUANTITY\", \"Two\")\n",
    "        elif comment[0] == \"3\":\n",
    "            final_message = final_message.replace(\"QUANTITY\", \"Three\")\n",
    "        elif comment[0] == \"4\":\n",
    "            final_message = final_message.replace(\"QUANTITY\", \"Four\")\n",
    "        elif comment[0] == \"5\":\n",
    "            final_message = final_message.replace(\"QUANTITY\", \"Five\")\n",
    "        else:\n",
    "            final_message = final_message.replace(\"QUANTITY\", comment[0])\n",
    "        \n",
    "        final_message = final_message.replace(\"_DISTRICTS_\", district)\n",
    "        \n",
    "    elif category in [\"Quiz Competition\", \"Speech Competition\"]:\n",
    "        final_message = templates[category].replace(\"_DISTRICTS_\",district).replace(\"TOTAL_SPECATATORS\",strenght)\n",
    "    elif category in [\"Seminar\", \"Rally\"]:\n",
    "        final_message = templates[category].replace(\"_DISTRICT_\", district).replace(\"TOTAL_SPECATATORS\",strenght)\n",
    "        final_message = final_message.replace(\"THEME\", \"on the topic \"+theme)\n",
    "    elif category == \"Sports Gala\":\n",
    "        final_message = templates[category].replace(\"_DISTRICT_\", district).replace(\"TOTAL_SPECATATORS\",strenght)\n",
    "        \n",
    "    print(str(no)+\".    \"+final_message)\n",
    "    \n",
    "    if category not in Total:\n",
    "        Total.update({category: [[strenght], [district], [comment.split(\" \")[0]], [theme]]})\n",
    "    else:\n",
    "        Total[category][0].append(strenght)\n",
    "        Total[category][1].append(district)\n",
    "        Total[category][2].append(comment.split(\" \")[0])\n",
    "        Total[category][3].append(theme)\n",
    "    \n",
    "    no += 1\n",
    "print('\\nFIP')\n",
    "\n",
    "\n",
    "Total"
   ]
  },
  {
   "cell_type": "code",
   "execution_count": 5,
   "id": "6ae8b2c9",
   "metadata": {},
   "outputs": [
    {
     "name": "stdout",
     "output_type": "stream",
     "text": [
      "Subj: *Progress Objectives – 12 Nov 2022*\n",
      "\n",
      "*Project Pakistan – Balochistan*\n",
      "\n",
      "1.    3 football matches were played today at Districts Sorab, Sibi and Nushki. Over 800 spectators enjoyed the matches.\n",
      "2.    A futsal match was played today at District Kech. Over 140 spectators enjoyed the match.\n",
      "3.    3 cricket matches were played today at Districts Lasbela, Chagai, Dalbandin and Nushki. Over 215 spectators enjoyed the matches.\n",
      "\n",
      "FIP\n"
     ]
    }
   ],
   "source": [
    "def replace_last(string, delimiter, replacement):\n",
    "    start, _, end = string.rpartition(delimiter)\n",
    "    return start + replacement + end\n",
    "\n",
    "print(\"Subj: *Progress Objectives – 12 Nov 2022*\\n\\n*Project Pakistan – Balochistan*\\n\")\n",
    "\n",
    "no = 1\n",
    "\n",
    "for cat in Total:\n",
    "    \n",
    "    try:\n",
    "        tot_str = sum([int(i) for i in Total[cat][0]])\n",
    "        tot_part = sum([int(i) for i in Total[cat][2] if i[0] in \"1234567890\" and i != \"\"])\n",
    "        districts = \", \".join(list(set(Total[cat][1])))\n",
    "    except:\n",
    "        continue\n",
    "    \n",
    "    if tot_part == 0:\n",
    "        tot_part = 1\n",
    "    \n",
    "    if len(list(set(Total[cat][1]))) > 1:\n",
    "        districts = replace_last(districts, ',', ' and')\n",
    "    \n",
    "    \n",
    "    if len(Total[cat][0]) == 1 and tot_part == 1:\n",
    "        final_message = templates[cat]\n",
    "        final_message = final_message.replace(\"SINGLUARES\", \"\").replace(\"WASWERE\", \"was\").replace(\"SINGULAR\", \"\")\n",
    "        final_message = final_message.replace(\"QUANTITY\", \"A\").replace(\"_DISTRICT_\", districts)\n",
    "        final_message = final_message.replace(\"TOTAL_SPECATATORS\", str(tot_str))\n",
    "        final_message = final_message.replace(\"THEME\", str(Total[cat][3][0]))\n",
    "        final_message = final_message.replace(\"Rall_SING_\", \"Rally\")\n",
    "    else:\n",
    "        final_message = templates[cat]\n",
    "        final_message = final_message.replace(\"SINGLUARES\", \"es\").replace(\"WASWERE\", \"were\").replace(\"SINGULAR\", \"s\")\n",
    "        final_message = final_message.replace(\"QUANTITY\", str(tot_part)).replace(\"_DISTRICT_\", districts)\n",
    "        final_message = final_message.replace(\"TOTAL_SPECATATORS\", str(tot_str))\n",
    "        final_message = final_message.replace(\"THEME\", str(Total[cat][3][0])).replace(\"A \", str(len(Total[cat][3]))+\" \")\n",
    "        final_message = final_message.replace(\"Rall_SING_\", \"Rallies\")\n",
    "        \n",
    "    print(str(no)+\".    \"+final_message)\n",
    "    no += 1\n",
    "print(\"\\nFIP\")"
   ]
  },
  {
   "cell_type": "code",
   "execution_count": null,
   "id": "d5ece297",
   "metadata": {},
   "outputs": [],
   "source": []
  },
  {
   "cell_type": "code",
   "execution_count": 6,
   "id": "f6d13712",
   "metadata": {},
   "outputs": [
    {
     "data": {
      "text/plain": [
       "['a. Football Match',\n",
       " '- Dist: Sorab',\n",
       " '- Spectators: 300 - 350',\n",
       " '- Comments: Final match was played and prizes were distributed among winners.',\n",
       " 'b. Football Match',\n",
       " '- Dist: Sorab',\n",
       " '- Spectators: 150 - 200',\n",
       " '- Comments: 1 match was played.',\n",
       " 'a. Futsal Match',\n",
       " '- Dist: Kech',\n",
       " '- Spectators: 120 - 140',\n",
       " '- Comments: 1 match was played.',\n",
       " 'a. Rally',\n",
       " '- Dist: Loralai',\n",
       " '- Comments: Rally was orgnized in Favour of AFs.',\n",
       " 'b. Rally',\n",
       " '- Dist: Loralai',\n",
       " '- Comments: Rally was orgnized in Favour of AFs.',\n",
       " 'a. Seminar',\n",
       " '- Dist: Zhob',\n",
       " '- Comments: Topic of seminar was Awareness about Propaganda against AFs.',\n",
       " 'a. Football Match',\n",
       " '- Dist: Nushki',\n",
       " '- Spectators: 500 - 550',\n",
       " '- Comments: 2 matches were played.',\n",
       " 'b. Cricket Match',\n",
       " '- Dist: Chagai',\n",
       " '- Spectators: 10 - 15',\n",
       " '- Comments: 1 match was played.',\n",
       " 'c. Cricket Match',\n",
       " '- Dist: Nushki',\n",
       " '- Spectators: 15 - 20',\n",
       " '- Comments: 1 match was played.',\n",
       " 'a. Cricket Match',\n",
       " '- Dist: Dalbandin',\n",
       " '- Spectators: 55 - 60',\n",
       " '- Comments: Final match was played and prizes were distributed among winners.',\n",
       " 'a. Cricket Match',\n",
       " '- Dist: Lasbela',\n",
       " '- Spectators: 100 - 120',\n",
       " '- Comments: 1 match was played.',\n",
       " '- Comments: 1 match was played.',\n",
       " 'b. Rally',\n",
       " '- Dist: Lasbela',\n",
       " '- Comments: Rally was orgnized in Favour of AFs.',\n",
       " 'a. Football Match',\n",
       " '- Dist: Naseerabad',\n",
       " '- Spectators: 55 - 60',\n",
       " '- Comments: 1 match was played.',\n",
       " 'b. Football Match',\n",
       " '- Dist: Sibi',\n",
       " '- Spectators: 45 - 50',\n",
       " '- Comments: Final match was played and prizes were distributed among winners.',\n",
       " 'c. Rally',\n",
       " '- Dist: Sibi',\n",
       " '- Comments: Rally was organized in Favour of AFs.']"
      ]
     },
     "execution_count": 6,
     "metadata": {},
     "output_type": "execute_result"
    }
   ],
   "source": [
    "lines = []\n",
    "\n",
    "for i in text.split(\"\\n\"):\n",
    "    \n",
    "    take = ['X. '.replace(\"X\", i) for i in 'abcdefghijklmnopqrstuvewxyz']\n",
    "\n",
    "    for t in take:\n",
    "        if t in i:\n",
    "            lines.append(i.rstrip().lstrip())\n",
    "            break\n",
    "    \n",
    "    if \"- Dist:\" in i:\n",
    "        lines.append(i.rstrip().lstrip())\n",
    "        continue\n",
    "        \n",
    "    if \"- Spectators:\" in i or \"Strenght:\" in i:\n",
    "        lines.append(i.rstrip().lstrip())\n",
    "        continue\n",
    "        \n",
    "    if \"- Comments:\" in i:\n",
    "        lines.append(i.rstrip().lstrip())\n",
    "        continue\n",
    "    \n",
    "lines"
   ]
  },
  {
   "cell_type": "code",
   "execution_count": 7,
   "id": "e142f591",
   "metadata": {},
   "outputs": [
    {
     "data": {
      "text/plain": [
       "[0, 4, 8, 12, 15, 18, 21, 25, 29, 33, 37, 42, 45, 49, 53]"
      ]
     },
     "execution_count": 7,
     "metadata": {},
     "output_type": "execute_result"
    }
   ],
   "source": [
    "new_lines = []\n",
    "sub = []\n",
    "for l in range(0, len(lines)):\n",
    "    found = False\n",
    "    for t in take:\n",
    "        if t in lines[l] and \"Comments\" not in lines[l]:\n",
    "            found = True\n",
    "        if found is True:\n",
    "            break\n",
    "    \n",
    "    if found is True:\n",
    "        new_lines.append(l)\n",
    "\n",
    "new_lines"
   ]
  },
  {
   "cell_type": "code",
   "execution_count": 8,
   "id": "ef557a7f",
   "metadata": {},
   "outputs": [
    {
     "ename": "NameError",
     "evalue": "name 'compiled' is not defined",
     "output_type": "error",
     "traceback": [
      "\u001b[1;31m---------------------------------------------------------------------------\u001b[0m",
      "\u001b[1;31mNameError\u001b[0m                                 Traceback (most recent call last)",
      "\u001b[1;32m<ipython-input-8-049fc480cf10>\u001b[0m in \u001b[0;36m<module>\u001b[1;34m\u001b[0m\n\u001b[1;32m----> 1\u001b[1;33m \u001b[0mcompiled\u001b[0m\u001b[1;33m\u001b[0m\u001b[1;33m\u001b[0m\u001b[0m\n\u001b[0m",
      "\u001b[1;31mNameError\u001b[0m: name 'compiled' is not defined"
     ]
    }
   ],
   "source": [
    "compiled"
   ]
  },
  {
   "cell_type": "code",
   "execution_count": 9,
   "id": "3fd15542",
   "metadata": {},
   "outputs": [
    {
     "data": {
      "text/plain": [
       "[['a. Football Match',\n",
       "  '- Dist: Sorab',\n",
       "  '- Spectators: 300 - 350',\n",
       "  '- Comments: Final match was played and prizes were distributed among winners.'],\n",
       " ['b. Football Match',\n",
       "  '- Dist: Sorab',\n",
       "  '- Spectators: 150 - 200',\n",
       "  '- Comments: 1 match was played.'],\n",
       " ['a. Futsal Match',\n",
       "  '- Dist: Kech',\n",
       "  '- Spectators: 120 - 140',\n",
       "  '- Comments: 1 match was played.'],\n",
       " ['a. Rally',\n",
       "  '- Dist: Loralai',\n",
       "  '- Comments: Rally was orgnized in Favour of AFs.'],\n",
       " ['b. Rally',\n",
       "  '- Dist: Loralai',\n",
       "  '- Comments: Rally was orgnized in Favour of AFs.'],\n",
       " ['a. Seminar',\n",
       "  '- Dist: Zhob',\n",
       "  '- Comments: Topic of seminar was Awareness about Propaganda against AFs.'],\n",
       " ['a. Football Match',\n",
       "  '- Dist: Nushki',\n",
       "  '- Spectators: 500 - 550',\n",
       "  '- Comments: 2 matches were played.'],\n",
       " ['b. Cricket Match',\n",
       "  '- Dist: Chagai',\n",
       "  '- Spectators: 10 - 15',\n",
       "  '- Comments: 1 match was played.'],\n",
       " ['c. Cricket Match',\n",
       "  '- Dist: Nushki',\n",
       "  '- Spectators: 15 - 20',\n",
       "  '- Comments: 1 match was played.'],\n",
       " ['a. Cricket Match',\n",
       "  '- Dist: Dalbandin',\n",
       "  '- Spectators: 55 - 60',\n",
       "  '- Comments: Final match was played and prizes were distributed among winners.'],\n",
       " ['a. Cricket Match',\n",
       "  '- Dist: Lasbela',\n",
       "  '- Spectators: 100 - 120',\n",
       "  '- Comments: 1 match was played.',\n",
       "  '- Comments: 1 match was played.'],\n",
       " ['b. Rally',\n",
       "  '- Dist: Lasbela',\n",
       "  '- Comments: Rally was orgnized in Favour of AFs.'],\n",
       " ['a. Football Match',\n",
       "  '- Dist: Naseerabad',\n",
       "  '- Spectators: 55 - 60',\n",
       "  '- Comments: 1 match was played.'],\n",
       " ['b. Football Match',\n",
       "  '- Dist: Sibi',\n",
       "  '- Spectators: 45 - 50',\n",
       "  '- Comments: Final match was played and prizes were distributed among winners.'],\n",
       " ['c. Rally',\n",
       "  '- Dist: Sibi',\n",
       "  '- Comments: Rally was organized in Favour of AFs.']]"
      ]
     },
     "execution_count": 9,
     "metadata": {},
     "output_type": "execute_result"
    }
   ],
   "source": [
    "compiled = []\n",
    "for i in range(0, len(new_lines)-1):\n",
    "    compiled.append(lines[new_lines[i]:new_lines[i+1]])\n",
    "\n",
    "compiled.append(lines[new_lines[-1]:])\n",
    "\n",
    "compiled"
   ]
  },
  {
   "cell_type": "code",
   "execution_count": 10,
   "id": "c15059b6",
   "metadata": {},
   "outputs": [
    {
     "data": {
      "text/plain": [
       "{'Football Match': [['Sorab', 'Sorab', 'Nushki', 'Naseerabad', 'Sibi'],\n",
       "  ['350', '200', '550', '60', '50'],\n",
       "  ['Final', '1', '2', '1', 'Final'],\n",
       "  ['', '', '', '', '']],\n",
       " 'Futsal Match': [['Kech'], ['140'], ['1'], ['']],\n",
       " 'Rally': [['Loralai', 'Loralai', 'Lasbela', 'Sibi'],\n",
       "  ['0', '0', '0', '0'],\n",
       "  ['0', '0', '0', '0'],\n",
       "  ['in - Comments: Rally was orgnized in Favour of AFs',\n",
       "   'in - Comments: Rally was orgnized in Favour of AFs',\n",
       "   'in - Comments: Rally was orgnized in Favour of AFs',\n",
       "   'in - Comments: Rally was organized in Favour of AFs']],\n",
       " 'Seminar': [['Zhob'],\n",
       "  ['0'],\n",
       "  ['0'],\n",
       "  ['in - Comments: Topic of seminar was Awareness about Propaganda against AFs']],\n",
       " 'Cricket Match': [['Chagai', 'Nushki', 'Dalbandin', 'Lasbela'],\n",
       "  ['15', '20', '60', '120'],\n",
       "  ['1', '1', 'Final', '1'],\n",
       "  ['', '', '', '']]}"
      ]
     },
     "execution_count": 10,
     "metadata": {},
     "output_type": "execute_result"
    }
   ],
   "source": [
    "Total = {}  \n",
    "\n",
    "for category in compiled:\n",
    "    \n",
    "    if category[0].split(\". \")[-1] not in Total:\n",
    "        Total.update({category[0].split(\". \")[-1] : [[], [], [], []]})\n",
    "    \n",
    "    if len(category) > 3:\n",
    "        Total[category[0].split(\". \")[-1]][0].append(category[1].split(\": \")[-1])\n",
    "        Total[category[0].split(\". \")[-1]][1].append(category[2].split(\" \")[-1])  \n",
    "        if \"match\" in category[3].lower() and \"sports gala\" not in category[3].lower():\n",
    "            Total[category[0].split(\". \")[-1]][2].append(category[3].split(\"Comments: \")[-1].split(\" \")[0])\n",
    "        else:\n",
    "            Total[category[0].split(\". \")[-1]][2].append(category[3])\n",
    "        Total[category[0].split(\". \")[-1]][3].append(\"\")\n",
    "    else:\n",
    "        Total[category[0].split(\". \")[-1]][0].append(category[1].split(\": \")[-1])\n",
    "        Total[category[0].split(\". \")[-1]][1].append(\"0\")\n",
    "        Total[category[0].split(\". \")[-1]][2].append(\"0\")\n",
    "        Total[category[0].split(\". \")[-1]][3].append(\"in \"+category[2].split(\"given in \")[-1][0:-1])\n",
    "\n",
    "Total"
   ]
  },
  {
   "cell_type": "code",
   "execution_count": 11,
   "id": "4b46f160",
   "metadata": {},
   "outputs": [
    {
     "name": "stdout",
     "output_type": "stream",
     "text": [
      "\n",
      "Subj: *Progress Objectives – 13-Dec-2022*\n",
      "\n",
      "*Project Pakistan – Balochistan*\n",
      "\n",
      "1.    Four football matches were played today at Districts Naseerabad, Sorab, Sibi and Nushki. Over 1210 spectators enjoyed the matches.\n",
      "2.    A futsal match was played today at District Kech. Over 140 spectators enjoyed the match.\n",
      "3.    Four Rallies in - Comments: Rally was orgnized in Favour of AFs organized at district Loralai, Sibi and Lasbela. Over 0 individuals participated in the rally.\n",
      "4.    A seminar in - Comments: Topic of seminar was Awareness about Propaganda against AFs was organized today at District Zhob. Over 0 individuals participated in the event.\n",
      "5.    Three cricket matches were played today at Districts Lasbela, Chagai, Dalbandin and Nushki. Over 21Five spectators enjoyed the matches.\n",
      "\n",
      "FIP\n"
     ]
    }
   ],
   "source": [
    "from datetime import datetime, timedelta\n",
    "datee = datetime.today().strftime('%m-%b-%Y')\n",
    "datee = str(int(datee.split(\"-\")[0])+1)+\"-\"+datee.split(\"-\")[1]+\"-\"+datee.split(\"-\")[2]\n",
    "print()\n",
    "\n",
    "def replace_last(string, delimiter, replacement):\n",
    "    start, _, end = string.rpartition(delimiter)\n",
    "    return start + replacement + end\n",
    "\n",
    "print(\"Subj: *Progress Objectives – \"+datee+\"*\\n\\n*Project Pakistan – Balochistan*\\n\")\n",
    "\n",
    "no = 1\n",
    "\n",
    "for cat in Total:\n",
    "    \n",
    "    try:\n",
    "        tot_str = sum([int(i) for i in Total[cat][1]])\n",
    "        tot_part = sum([int(i) for i in Total[cat][2] if i[0] in \"1234567890\" and i != \"\"])\n",
    "        districts = \", \".join(list(set(Total[cat][0])))\n",
    "    except Exception as e:\n",
    "        print(e)\n",
    "        continue\n",
    "    \n",
    "    if tot_part == 0:\n",
    "        tot_part = 1\n",
    "    \n",
    "    if len(list(set(Total[cat][0]))) > 1:\n",
    "        districts = replace_last(districts, ',', ' and')\n",
    "    \n",
    "    \n",
    "    if len(Total[cat][0]) == 1 and tot_part == 1:\n",
    "        final_message = templates[cat]\n",
    "        final_message = final_message.replace(\"SINGLUARES\", \"\").replace(\"WASWERE\", \"was\").replace(\"SINGULAR\", \"\")\n",
    "        final_message = final_message.replace(\"QUANTITY\", \"A\").replace(\"_DISTRICT_\", districts)\n",
    "        final_message = final_message.replace(\"TOTAL_SPECATATORS\", str(tot_str))\n",
    "        final_message = final_message.replace(\"THEME\", str(Total[cat][3][0]))\n",
    "        final_message = final_message.replace(\"Rall_SING_\", \"Rally\")\n",
    "    else:\n",
    "        final_message = templates[cat]\n",
    "        final_message = final_message.replace(\"SINGLUARES\", \"es\").replace(\"WASWERE\", \"were\").replace(\"SINGULAR\", \"s\")\n",
    "        final_message = final_message.replace(\"QUANTITY\", str(tot_part)).replace(\"_DISTRICT_\", districts)\n",
    "        final_message = final_message.replace(\"TOTAL_SPECATATORS\", str(tot_str))\n",
    "        final_message = final_message.replace(\"THEME\", str(Total[cat][3][0])).replace(\"A \", str(len(Total[cat][3]))+\" \")\n",
    "        final_message = final_message.replace(\"Rall_SING_\", \"Rallies\")\n",
    "        \n",
    "    print(str(no)+\".    \"+final_message.replace(\"2 \", \"Two \").replace(\"3 \", \"Three \").replace(\"4 \", \"Four \").replace(\"5 \", \"Five \").replace(\"6 \", \"Six \"))\n",
    "    \n",
    "    no += 1\n",
    "print(\"\\nFIP\")"
   ]
  },
  {
   "cell_type": "code",
   "execution_count": 33,
   "id": "b9c3aa0e",
   "metadata": {},
   "outputs": [
    {
     "name": "stdout",
     "output_type": "stream",
     "text": [
      "Subj: *Progress Objectives - 6 Dec 2022*\n",
      "\n",
      "*Project Pakistan - Balochistan*\n",
      "\n",
      "1.    Six football matches were played today at Districts Sibi, Sorab, Naseerabad and Nushki. Over 1210 spectators enjoyed the matches.\n",
      "2.    A futsal match was played today at District Kech. Over 140 spectators enjoyed the match.\n",
      "3.    Four Rallies in Favour of AFs were organized at Districts Sibi, Lasbela and Loralai. Over 3150 individuals participated in the Rallies.\n",
      "4.    A seminar on Awareness about Propaganda against AFs was organized today at District Zhob. Over 30 individuals participated in the event.\n",
      "5.    Four cricket matches were played today at Districts Lasbela, Chagai, Nushki and Dalbandin. Over 215 spectators enjoyed the matches.\n",
      "\n",
      "*FIP*\n"
     ]
    }
   ],
   "source": [
    "text = \"\"\"\n",
    "Subject: - Project Pakistan - 5 Dec 2022\n",
    "\n",
    "Fol activities were conducted in Balochistan:\n",
    "\n",
    "    1. SS Khuzdar\n",
    "  \n",
    "     a. Football Match\n",
    "      - RV: Football Stadium\n",
    "      - Dist: Sorab\n",
    "      - Chief Guest: AC Sorab\n",
    "      - Spectators: 300 - 350\n",
    "      - Comments: Final match was played and prizes were distributed among winners.\n",
    "\n",
    "     b. Football Match\n",
    "      - RV: Government Boys Degree College Ground\n",
    "      - Dist: Sorab\n",
    "      - Chief Guest: Principal GBDC Sorab\n",
    "      - Spectators: 150 - 200\n",
    "      - Comments: 1 match was played.\n",
    "\n",
    "    2. SS Turbat\n",
    "\n",
    "     a. Futsal Match\n",
    "      - RV: Futsal Stadium\n",
    "      - Dist: Kech\n",
    "      - Chief Guest: Dist Police Officer Kech\n",
    "      - Spectators: 120 - 140\n",
    "      - Comments: 1 match was played.\n",
    "\n",
    "    3. SS Loralai\n",
    "\n",
    "     a. Rally\n",
    "      - RV: Mekhtar Bazar\n",
    "      - Dist: Loralai\n",
    "      - Chief Guest: Local Elder Mekhtar\n",
    "      - Strength: 100 - 150\n",
    "      - Comments: Rally was orgnized in Favour of AFs.\n",
    "\n",
    "     b. Rally\n",
    "      - RV: Awami Hotel Barkhan\n",
    "      - Dist: Loralai\n",
    "      - Chief Guest: Dist Vice President Pakistan Peoples Party Barkhan\n",
    "      - Strength: 1200 - 1500\n",
    "      - Comments: Rally was orgnized in Favour of AFs.\n",
    "\n",
    "    4. FO Zhob\n",
    "\n",
    "     a. Seminar\n",
    "      - RV: Government Boys High School\n",
    "      - Dist: Zhob\n",
    "      - Chief Guest: Divisional Director Education Zhob\n",
    "      - Strength: 25 - 30\n",
    "      - Comments: Topic of seminar was Awareness about Propaganda against AFs.\n",
    "\n",
    "    5. SS Nushki\n",
    "\n",
    "     a. Football Match\n",
    "      - RV: Football Ground DC House\n",
    "      - Dist: Nushki\n",
    "      - Chief Guest: DC Nushki\n",
    "      - Spectators: 500 - 550\n",
    "      - Comments: 2 matches were played.\n",
    "\n",
    "     b. Cricket Match\n",
    "      - RV: Cricket Ground\n",
    "      - Dist: Chagai\n",
    "      - Chief Guest: Local Noteable Chagai\n",
    "      - Spectators: 10 - 15\n",
    "      - Comments: 1 match was played.\n",
    "\n",
    "     c. Cricket Match\n",
    "      - RV: Cricket Ground\n",
    "      - Dist: Nushki\n",
    "      - Chief Guest: Local Noteable Nushki\n",
    "      - Spectators: 15 - 20\n",
    "      - Comments: 1 match was played.\n",
    "\n",
    "    6. FO Dalbandin\n",
    "\n",
    "     a. Cricket Match\n",
    "      - RV: Cricket Ground\n",
    "      - Dist: Dalbandin\n",
    "      - Chief Guest: DC Chagai\n",
    "      - Spectators: 55 - 60\n",
    "      - Comments: Final match was played and prizes were distributed among winners.\n",
    "\n",
    "    7. FO Hub\n",
    "\n",
    "     a. Cricket Match\n",
    "      - RV: Government Boys High School Cricket Ground Bela\n",
    "      - Dist: Lasbela\n",
    "      - Chief Guest: Head Master GBHS Bela\n",
    "      - Spectators: 100 - 120\n",
    "      - Comments: 1 match was played. \n",
    "\n",
    "     b. Rally\n",
    "      - RV: Bela City\n",
    "      - Dist: Lasbela\n",
    "      - Chief Guest: Local Noteable Bela\n",
    "      - Strength: 800 - 1000\n",
    "      - Comments: Rally was orgnized in Favour of AFs.\n",
    "\n",
    "    8. SS Sibi\n",
    "  \n",
    "     a. Football Match\n",
    "      - RV: Dinar Football Ground Dera Murad Jamali\n",
    "      - Dist: Naseerabad\n",
    "      - Chief Guest: Dist Sports Officer Naseerabad\n",
    "      - Spectators: 55 - 60\n",
    "      - Comments: 1 match was played.\n",
    "\n",
    "     b. Football Match\n",
    "      - RV: Mir Chakar Khan Stadium\n",
    "      - Dist: Sibi\n",
    "      - Chief Guest: AC Sibi\n",
    "      - Spectators: 45 - 50\n",
    "      - Comments: Final match was played and prizes were distributed among winners.\n",
    "\n",
    "     c. Rally\n",
    "      - RV: Kohlu City\n",
    "      - Dist: Sibi\n",
    "      - Chief Guest: Dist President National Party Sibi\n",
    "      - Strength: 450 - 500\n",
    "      - Comments: Rally was organized in Favour of AFs.\n",
    "\n",
    "FIP\n",
    "\"\"\"\n",
    "\n",
    "import re\n",
    "import num2words\n",
    "\n",
    "templates = {\"Football Match\" : \"QUANTITY football matchSINGLUARES WASWERE played today at DistrictSINGULAR _DISTRICT_. Over TOTAL_SPECATATORS spectators enjoyed the matchSINGLUARES.\", \\\n",
    "             \"Cricket Match\" : \"QUANTITY cricket matchSINGLUARES WASWERE played today at DistrictSINGULAR _DISTRICT_. Over TOTAL_SPECATATORS spectators enjoyed the matchSINGLUARES.\",\\\n",
    "             \"Quiz Competition\":\"A quiz competition was organized today at DistrictSINGULAR _DISTRICT_. Over TOTAL_SPECATATORS individuals participated in the event.\",\\\n",
    "             \"Rally\" : \"A Rall_SING_ THEME WASWERE organized at DistrictSINGULAR _DISTRICT_. Over TOTAL_SPECATATORS individuals participated in the Rall_SING_.\",\\\n",
    "             \"Seminar\" : \"QUANTITY seminarSINGULAR THEME WASWERE organized today at DistrictSINGULAR _DISTRICT_. Over TOTAL_SPECATATORS individuals participated in the eventSINGULAR.\",\\\n",
    "             \"Speech Competition\":\"QUANTITY speech competitionSINGULAR (THEME) WASWERE organized today at DistrictSINGULAR _DISTRICT_. Over TOTAL_SPECATATORS individuals participated in the eventSINGULAR.\",\\\n",
    "             \"Sports Gala\" : \"Sports Gala (M_A_T) organized today at District _DISTRICT_. Over TOTAL_SPECATATORS individuals participated in the event.\",\\\n",
    "             \"Sports Program\" : \"Sports Program (M_A_T) organized today at District _DISTRICT_. Over TOTAL_SPECATATORS individuals participated in the event.\",\\\n",
    "            \"Volleyball Match\" : \"QUANTITY volleyball matchSINGLUARES WASWERE played today at DistrictSINGULAR _DISTRICT_. Over TOTAL_SPECATATORS spectators enjoyed the matchSINGLUARES.\",\\\n",
    "            \"Relief Activity\": \"A Relief activity organized at District _DISTRICT_. Over TOTAL_SPECATATORS individuals participated in the event.\",\n",
    "            \"Taekwando Match\" : \"QUANTITY Taekwando matchSINGLUARES WASWERE played today at DistrictSINGULAR _DISTRICT_. Over TOTAL_SPECATATORS spectators enjoyed the matchSINGLUARES.\",\\\n",
    "            \"Tug of War Match\" : \"QUANTITY Tug of War matchSINGLUARES WASWERE played today at DistrictSINGULAR _DISTRICT_. Over TOTAL_SPECATATORS spectators enjoyed the matchSINGLUARES.\",\\\n",
    "            \"Iqbal Day Celebration\" : \"Iqbal Day Celebration celebration was organized today at DistrictSINGULAR _DISTRICT_. Over TOTAL_SPECATATORS individuals participated in the event.\",\\\n",
    "            \"Iqbal Day Program\" : \"Iqbal Day Program celebration was organized today at DistrictSINGULAR _DISTRICT_. Over TOTAL_SPECATATORS individuals participated in the event.\",\\\n",
    "            \"Futsal Match\" : \"QUANTITY futsal matchSINGLUARES WASWERE played today at DistrictSINGULAR _DISTRICT_. Over TOTAL_SPECATATORS spectators enjoyed the matchSINGLUARES.\",\\\n",
    "            \"Cricket Trials\" : \"Cricket Trials were organized today at DistrictSINGULAR _DISTRICT_. Over TOTAL_SPECATATORS individuals participated in the trials.\",\\\n",
    "            \"Table Tennis Match\" : \"QUANTITY table tennis matchSINGLUARES WASWERE played today at DistrictSINGULAR _DISTRICT_. Over TOTAL_SPECATATORS spectators enjoyed the matchSINGLUARES.\",\\\n",
    "            \"Boxing Match\" : \"QUANTITY boxing matchSINGLUARES WASWERE played today at DistrictSINGULAR _DISTRICT_. Over TOTAL_SPECATATORS spectators enjoyed the matchSINGLUARES.\"}\n",
    "\n",
    "\n",
    "def getImportantLines(text):\n",
    "    \n",
    "    text = text.replace(\"Final match\", \"1 match\")\n",
    "    lines = []\n",
    "\n",
    "    for i in text.split(\"\\n\"):\n",
    "\n",
    "        take = ['X. '.replace(\"X\", i) for i in 'abcdefghijklmnopqrstuvewxyz']\n",
    "\n",
    "        for t in take:\n",
    "            if t in i:\n",
    "                lines.append(i.rstrip().lstrip())\n",
    "                break\n",
    "\n",
    "        if \"- Dist:\" in i:\n",
    "            lines.append(i.rstrip().lstrip())\n",
    "            continue\n",
    "\n",
    "        if \"- Spectators:\" in i or \"Strenght:\" in i or \"Strength\" in i:\n",
    "            lines.append(i.rstrip().lstrip())\n",
    "            continue\n",
    "\n",
    "        if \"- Comments:\" in i:\n",
    "            lines.append(i.rstrip().lstrip())\n",
    "            continue\n",
    "    return lines\n",
    "\n",
    "def getPoints(lines):\n",
    "    take = ['X. '.replace(\"X\", i) for i in 'abcdefghijklmnopqrstuvewxyz']\n",
    "    new_lines = []\n",
    "    for l in range(0, len(lines)):\n",
    "        found = False\n",
    "        for t in take:\n",
    "            if t in lines[l] and \"Comments\" not in lines[l]:\n",
    "                found = True\n",
    "            if found is True:\n",
    "                break\n",
    "\n",
    "        if found is True:\n",
    "            new_lines.append(l)\n",
    "\n",
    "    return new_lines\n",
    "\n",
    "def getImportantTermsOnly(lines, new_lines):\n",
    "    compiled = []\n",
    "    for i in range(0, len(new_lines)-1):\n",
    "        compiled.append(lines[new_lines[i]:new_lines[i+1]])\n",
    "    compiled.append(lines[new_lines[-1]:])\n",
    "\n",
    "\n",
    "    Total = {}\n",
    "\n",
    "    for category in compiled:\n",
    "        if category[0].split(\". \")[-1] not in Total:\n",
    "            Total.update({category[0].split(\". \")[-1] : [[], [], [], []]})\n",
    "\n",
    "        if len(category) > 3:\n",
    "            Total[category[0].split(\". \")[-1]][0].append(category[1].split(\": \")[-1])\n",
    "            Total[category[0].split(\". \")[-1]][1].append(category[2].split(\" \")[-1])\n",
    "\n",
    "            if \"match\" in category[3].lower() and \"sports gala\" not in category[0].lower() and \"sports program\" not in category[0].lower():\n",
    "                Total[category[0].split(\". \")[-1]][2].append(category[3].split(\"Comments: \")[-1].split(\" \")[0])\n",
    "                Total[category[0].split(\". \")[-1]][3].append(\"\")\n",
    "            else:\n",
    "                if \"sports gala\" in category[0].lower() or \"sports program\" in category[0].lower():\n",
    "                    Total[category[0].split(\". \")[-1]][2].append(category[3])\n",
    "                    Total[category[0].split(\". \")[-1]][3].append(category[3].split(\"- Comments: \")[-1].split(\"match\")[0])\n",
    "                else:\n",
    "                    Total[category[0].split(\". \")[-1]][2].append(category[3])\n",
    "\n",
    "                    extracted_theme = None\n",
    "                    for th in ['in Favour of AFs', ' in Favour of Armed Forces', 'Corruption']:\n",
    "                        if th.lower() in category[3].lower():\n",
    "                            extracted_theme = th\n",
    "                            break\n",
    "                    if extracted_theme is None:\n",
    "                        Total[category[0].split(\". \")[-1]][3].append(category[3].split(\" in \")[-1][0:-1])\n",
    "                    else:\n",
    "                        Total[category[0].split(\". \")[-1]][3].append(extracted_theme)\n",
    "        else:\n",
    "            Total[category[0].split(\". \")[-1]][0].append(category[1].split(\": \")[-1])\n",
    "            Total[category[0].split(\". \")[-1]][1].append(\"0\")\n",
    "            Total[category[0].split(\". \")[-1]][2].append(\"0\")\n",
    "\n",
    "    return Total\n",
    "\n",
    "def replace_last(string, delimiter, replacement):\n",
    "    start, _, end = string.rpartition(delimiter)\n",
    "    return start + replacement + end\n",
    "\n",
    "def finalMessage(Total):\n",
    "\n",
    "    response = []\n",
    "\n",
    "    from time import gmtime, strftime\n",
    "    datee = str(strftime(\"%d-%b-%Y\", gmtime()))\n",
    "    datee = str(int(datee.split(\"-\")[0]))+\" \"+datee.split(\"-\")[1]+\" \"+datee.split(\"-\")[2]\n",
    "\n",
    "    response.append(\"Subj: *Progress Objectives - \"+datee+\"*\\n\\n*Project Pakistan - Balochistan*\\n\")\n",
    "\n",
    "    no = 1\n",
    "    \n",
    "    for cat in Total:\n",
    "\n",
    "        try:\n",
    "            tot_str = sum([int(i) for i in Total[cat][1]])\n",
    "            tot_part = sum([int(i) for i in Total[cat][2] if i[0] in \"1234567890\" and i != \"\"])\n",
    "            districts = \", \".join(list(set(Total[cat][0])))\n",
    "            \n",
    "            if tot_part == 0 and len(districts) != 1:\n",
    "                tot_part = len(list(set(Total[cat][0])))\n",
    "            \n",
    "        except Exception as e:\n",
    "            print(e)\n",
    "            continue\n",
    "\n",
    "        if tot_part == 0:\n",
    "            tot_part = 1\n",
    "\n",
    "        if len(list(set(Total[cat][0]))) > 1:\n",
    "            districts = replace_last(districts, ',', ' and')\n",
    "\n",
    "\n",
    "        if cat not in templates:\n",
    "\n",
    "            if \"football\" in cat.lower() or \"cricket\" in cat.lower() or \"tournament\" in cat.lower():\n",
    "                if tot_part == 1:\n",
    "                    quantity = \"A match of\"\n",
    "                    when = \" was played today \"\n",
    "                    match = \"match.\"\n",
    "                else:\n",
    "                    cat = cat+\"(\"+str(Total[cat][3][0])+\") \"\n",
    "                    quantity = str(tot_part)+\" macthes of\"\n",
    "                    when = \"were played today\"\n",
    "                    match = \"matches.\"\n",
    "                response.append(str(no)+\".    \"+quantity+\" \"+cat+when+districts+\". Over \"+str(tot_str)+\" spectators enjoyed the \"+match)\n",
    "            else:\n",
    "                if tot_part == 1:\n",
    "                    tot_part = \"A\"\n",
    "                quantity = str(tot_part)\n",
    "                response.append(str(no)+\".    \"+quantity+\" \"+cat+\" organized today at \"+districts+\". Over \"+str(tot_str)+\" individuals participated.\")\n",
    "            no = no + 1\n",
    "            continue\n",
    "        else:\n",
    "            if len(Total[cat][0]) == 1 and tot_part == 1:\n",
    "                final_message = templates[cat]\n",
    "                final_message = final_message.replace(\"SINGLUARES\", \"\").replace(\"WASWERE\", \"was\").replace(\"SINGULAR\", \"\")\n",
    "                final_message = final_message.replace(\"QUANTITY\", \"A\").replace(\"_DISTRICT_\", districts)\n",
    "                final_message = final_message.replace(\"TOTAL_SPECATATORS\", str(tot_str))\n",
    "                final_message = final_message.replace(\"THEME\", str(Total[cat][3][0]))\n",
    "                final_message = final_message.replace(\"Rall_SING_\", \"Rally\")\n",
    "                final_message = final_message.replace(\"M_A_T\", str(Total[cat][3][0]))\n",
    "            else:\n",
    "                final_message = templates[cat]\n",
    "                final_message = final_message.replace(\"SINGLUARES\", \"es\").replace(\"WASWERE\", \"were\").replace(\"SINGULAR\", \"s\")\n",
    "                final_message = final_message.replace(\"QUANTITY\", str(tot_part)).replace(\"_DISTRICT_\", districts)\n",
    "                final_message = final_message.replace(\"TOTAL_SPECATATORS\", str(tot_str))\n",
    "                final_message = final_message.replace(\"THEME\", str(Total[cat][3][0])).replace(\"A \", str(len(Total[cat][3]))+\" \")\n",
    "                final_message = final_message.replace(\"Rall_SING_\", \"Rallies\")\n",
    "                final_message = final_message.replace(\"M_A_T\", str(Total[cat][3][0]))\n",
    "        \n",
    "        first_word = final_message.split(\" \")[0]\n",
    "        if first_word not in [\"A\"]:\n",
    "            first_word = re.sub(r\"(\\d+)\", lambda x: num2words.num2words(int(x.group(0))), first_word)\n",
    "            first_word = first_word.title()\n",
    "        \n",
    "            final_message = first_word + \" \" + \" \".join(final_message.split(\" \")[1: ])\n",
    "        else:\n",
    "            pass\n",
    "        \n",
    "        final_message = str(no)+\".    \"+final_message\n",
    "        \n",
    "        final_message = final_message.replace(\"- Comments: Topic of seminar was\", \"on\")\n",
    "        response.append(final_message)\n",
    "        \n",
    "        no += 1\n",
    "\n",
    "    response.append(\"\\n*FIP*\")\n",
    "\n",
    "    return '\\n'.join(response)\n",
    "\n",
    "lines = getImportantLines(text)\n",
    "new_lines = getPoints(lines)\n",
    "Total = getImportantTermsOnly(lines, new_lines)\n",
    "text = finalMessage(Total)\n",
    "print(text)"
   ]
  },
  {
   "cell_type": "code",
   "execution_count": null,
   "id": "d91a4b1e",
   "metadata": {},
   "outputs": [],
   "source": []
  }
 ],
 "metadata": {
  "kernelspec": {
   "display_name": "Python 3",
   "language": "python",
   "name": "python3"
  },
  "language_info": {
   "codemirror_mode": {
    "name": "ipython",
    "version": 3
   },
   "file_extension": ".py",
   "mimetype": "text/x-python",
   "name": "python",
   "nbconvert_exporter": "python",
   "pygments_lexer": "ipython3",
   "version": "3.7.3"
  }
 },
 "nbformat": 4,
 "nbformat_minor": 5
}
